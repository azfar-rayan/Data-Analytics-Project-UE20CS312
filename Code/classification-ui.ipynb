{
 "cells": [
  {
   "cell_type": "code",
   "execution_count": 1,
   "id": "7c9e89e8",
   "metadata": {
    "_cell_guid": "b1076dfc-b9ad-4769-8c92-a6c4dae69d19",
    "_uuid": "8f2839f25d086af736a60e9eeb907d3b93b6e0e5",
    "execution": {
     "iopub.execute_input": "2022-11-14T23:02:35.827260Z",
     "iopub.status.busy": "2022-11-14T23:02:35.826756Z",
     "iopub.status.idle": "2022-11-14T23:02:35.844686Z",
     "shell.execute_reply": "2022-11-14T23:02:35.843571Z"
    },
    "papermill": {
     "duration": 0.040663,
     "end_time": "2022-11-14T23:02:35.847354",
     "exception": false,
     "start_time": "2022-11-14T23:02:35.806691",
     "status": "completed"
    },
    "tags": []
   },
   "outputs": [
    {
     "name": "stdout",
     "output_type": "stream",
     "text": [
      "/kaggle/input/mci-2021/MCI_2021.csv\n"
     ]
    }
   ],
   "source": [
    "# This Python 3 environment comes with many helpful analytics libraries installed\n",
    "# It is defined by the kaggle/python Docker image: https://github.com/kaggle/docker-python\n",
    "# For example, here's several helpful packages to load\n",
    "\n",
    "import numpy as np # linear algebra\n",
    "import pandas as pd # data processing, CSV file I/O (e.g. pd.read_csv)\n",
    "\n",
    "# Input data files are available in the read-only \"../input/\" directory\n",
    "# For example, running this (by clicking run or pressing Shift+Enter) will list all files under the input directory\n",
    "\n",
    "import os\n",
    "for dirname, _, filenames in os.walk('/kaggle/input'):\n",
    "    for filename in filenames:\n",
    "        print(os.path.join(dirname, filename))\n",
    "\n",
    "# You can write up to 20GB to the current directory (/kaggle/working/) that gets preserved as output when you create a version using \"Save & Run All\" \n",
    "# You can also write temporary files to /kaggle/temp/, but they won't be saved outside of the current session"
   ]
  },
  {
   "cell_type": "code",
   "execution_count": 2,
   "id": "9a0bf834",
   "metadata": {
    "execution": {
     "iopub.execute_input": "2022-11-14T23:02:35.884211Z",
     "iopub.status.busy": "2022-11-14T23:02:35.883556Z",
     "iopub.status.idle": "2022-11-14T23:02:36.312553Z",
     "shell.execute_reply": "2022-11-14T23:02:36.311281Z"
    },
    "papermill": {
     "duration": 0.450631,
     "end_time": "2022-11-14T23:02:36.315337",
     "exception": false,
     "start_time": "2022-11-14T23:02:35.864706",
     "status": "completed"
    },
    "tags": []
   },
   "outputs": [
    {
     "data": {
      "text/html": [
       "<div>\n",
       "<style scoped>\n",
       "    .dataframe tbody tr th:only-of-type {\n",
       "        vertical-align: middle;\n",
       "    }\n",
       "\n",
       "    .dataframe tbody tr th {\n",
       "        vertical-align: top;\n",
       "    }\n",
       "\n",
       "    .dataframe thead th {\n",
       "        text-align: right;\n",
       "    }\n",
       "</style>\n",
       "<table border=\"1\" class=\"dataframe\">\n",
       "  <thead>\n",
       "    <tr style=\"text-align: right;\">\n",
       "      <th></th>\n",
       "      <th>Index_</th>\n",
       "      <th>event_unique_id</th>\n",
       "      <th>Division</th>\n",
       "      <th>occurrencedate</th>\n",
       "      <th>reporteddate</th>\n",
       "      <th>location_type</th>\n",
       "      <th>premises_type</th>\n",
       "      <th>ucr_code</th>\n",
       "      <th>ucr_ext</th>\n",
       "      <th>offence</th>\n",
       "      <th>...</th>\n",
       "      <th>occurrencemonth</th>\n",
       "      <th>occurrenceday</th>\n",
       "      <th>occurrencedayofyear</th>\n",
       "      <th>occurrencedayofweek</th>\n",
       "      <th>occurrencehour</th>\n",
       "      <th>mci_category</th>\n",
       "      <th>Hood_ID</th>\n",
       "      <th>Neighbourhood</th>\n",
       "      <th>Longitude</th>\n",
       "      <th>Latitude</th>\n",
       "    </tr>\n",
       "  </thead>\n",
       "  <tbody>\n",
       "    <tr>\n",
       "      <th>0</th>\n",
       "      <td>246701</td>\n",
       "      <td>GO-20212596</td>\n",
       "      <td>D14</td>\n",
       "      <td>2021/01/01 05:00:00+00</td>\n",
       "      <td>2021/01/01 05:00:00+00</td>\n",
       "      <td>Apartment (Rooming House, Condo)</td>\n",
       "      <td>Apartment</td>\n",
       "      <td>1430</td>\n",
       "      <td>100</td>\n",
       "      <td>Assault</td>\n",
       "      <td>...</td>\n",
       "      <td>January</td>\n",
       "      <td>1</td>\n",
       "      <td>1</td>\n",
       "      <td>Friday</td>\n",
       "      <td>13</td>\n",
       "      <td>Assault</td>\n",
       "      <td>78</td>\n",
       "      <td>Kensington-Chinatown</td>\n",
       "      <td>-79.401107</td>\n",
       "      <td>43.652274</td>\n",
       "    </tr>\n",
       "    <tr>\n",
       "      <th>1</th>\n",
       "      <td>246702</td>\n",
       "      <td>GO-20211711</td>\n",
       "      <td>D52</td>\n",
       "      <td>2021/01/01 05:00:00+00</td>\n",
       "      <td>2021/01/01 05:00:00+00</td>\n",
       "      <td>Apartment (Rooming House, Condo)</td>\n",
       "      <td>Apartment</td>\n",
       "      <td>2120</td>\n",
       "      <td>200</td>\n",
       "      <td>B&amp;E</td>\n",
       "      <td>...</td>\n",
       "      <td>January</td>\n",
       "      <td>1</td>\n",
       "      <td>1</td>\n",
       "      <td>Friday</td>\n",
       "      <td>1</td>\n",
       "      <td>Break and Enter</td>\n",
       "      <td>76</td>\n",
       "      <td>Bay Street Corridor</td>\n",
       "      <td>-79.383726</td>\n",
       "      <td>43.655716</td>\n",
       "    </tr>\n",
       "    <tr>\n",
       "      <th>2</th>\n",
       "      <td>246703</td>\n",
       "      <td>GO-20212771</td>\n",
       "      <td>D31</td>\n",
       "      <td>2021/01/01 05:00:00+00</td>\n",
       "      <td>2021/01/01 05:00:00+00</td>\n",
       "      <td>Other Commercial / Corporate Places (For Profi...</td>\n",
       "      <td>Commercial</td>\n",
       "      <td>1610</td>\n",
       "      <td>200</td>\n",
       "      <td>Robbery - Mugging</td>\n",
       "      <td>...</td>\n",
       "      <td>January</td>\n",
       "      <td>1</td>\n",
       "      <td>1</td>\n",
       "      <td>Friday</td>\n",
       "      <td>13</td>\n",
       "      <td>Robbery</td>\n",
       "      <td>26</td>\n",
       "      <td>Downsview-Roding-CFB</td>\n",
       "      <td>-79.508595</td>\n",
       "      <td>43.720916</td>\n",
       "    </tr>\n",
       "    <tr>\n",
       "      <th>3</th>\n",
       "      <td>246704</td>\n",
       "      <td>GO-20212162</td>\n",
       "      <td>D41</td>\n",
       "      <td>2021/01/01 05:00:00+00</td>\n",
       "      <td>2021/01/01 05:00:00+00</td>\n",
       "      <td>Single Home, House (Attach Garage, Cottage, Mo...</td>\n",
       "      <td>House</td>\n",
       "      <td>1430</td>\n",
       "      <td>100</td>\n",
       "      <td>Assault</td>\n",
       "      <td>...</td>\n",
       "      <td>January</td>\n",
       "      <td>1</td>\n",
       "      <td>1</td>\n",
       "      <td>Friday</td>\n",
       "      <td>8</td>\n",
       "      <td>Assault</td>\n",
       "      <td>125</td>\n",
       "      <td>Ionview</td>\n",
       "      <td>-79.273833</td>\n",
       "      <td>43.725777</td>\n",
       "    </tr>\n",
       "    <tr>\n",
       "      <th>4</th>\n",
       "      <td>246912</td>\n",
       "      <td>GO-202118253</td>\n",
       "      <td>D13</td>\n",
       "      <td>2021/01/01 05:00:00+00</td>\n",
       "      <td>2021/01/04 05:00:00+00</td>\n",
       "      <td>Parking Lots (Apt., Commercial Or Non-Commercial)</td>\n",
       "      <td>Outside</td>\n",
       "      <td>1430</td>\n",
       "      <td>100</td>\n",
       "      <td>Assault</td>\n",
       "      <td>...</td>\n",
       "      <td>January</td>\n",
       "      <td>1</td>\n",
       "      <td>1</td>\n",
       "      <td>Friday</td>\n",
       "      <td>20</td>\n",
       "      <td>Assault</td>\n",
       "      <td>107</td>\n",
       "      <td>Oakwood Village</td>\n",
       "      <td>-79.447646</td>\n",
       "      <td>43.696259</td>\n",
       "    </tr>\n",
       "  </tbody>\n",
       "</table>\n",
       "<p>5 rows × 27 columns</p>\n",
       "</div>"
      ],
      "text/plain": [
       "   Index_ event_unique_id Division          occurrencedate  \\\n",
       "0  246701     GO-20212596      D14  2021/01/01 05:00:00+00   \n",
       "1  246702     GO-20211711      D52  2021/01/01 05:00:00+00   \n",
       "2  246703     GO-20212771      D31  2021/01/01 05:00:00+00   \n",
       "3  246704     GO-20212162      D41  2021/01/01 05:00:00+00   \n",
       "4  246912    GO-202118253      D13  2021/01/01 05:00:00+00   \n",
       "\n",
       "             reporteddate                                      location_type  \\\n",
       "0  2021/01/01 05:00:00+00                   Apartment (Rooming House, Condo)   \n",
       "1  2021/01/01 05:00:00+00                   Apartment (Rooming House, Condo)   \n",
       "2  2021/01/01 05:00:00+00  Other Commercial / Corporate Places (For Profi...   \n",
       "3  2021/01/01 05:00:00+00  Single Home, House (Attach Garage, Cottage, Mo...   \n",
       "4  2021/01/04 05:00:00+00  Parking Lots (Apt., Commercial Or Non-Commercial)   \n",
       "\n",
       "  premises_type  ucr_code  ucr_ext            offence  ...  occurrencemonth  \\\n",
       "0     Apartment      1430      100            Assault  ...          January   \n",
       "1     Apartment      2120      200                B&E  ...          January   \n",
       "2    Commercial      1610      200  Robbery - Mugging  ...          January   \n",
       "3         House      1430      100            Assault  ...          January   \n",
       "4       Outside      1430      100            Assault  ...          January   \n",
       "\n",
       "  occurrenceday  occurrencedayofyear  occurrencedayofweek occurrencehour  \\\n",
       "0             1                    1           Friday                 13   \n",
       "1             1                    1           Friday                  1   \n",
       "2             1                    1           Friday                 13   \n",
       "3             1                    1           Friday                  8   \n",
       "4             1                    1           Friday                 20   \n",
       "\n",
       "      mci_category  Hood_ID         Neighbourhood  Longitude   Latitude  \n",
       "0          Assault       78  Kensington-Chinatown -79.401107  43.652274  \n",
       "1  Break and Enter       76   Bay Street Corridor -79.383726  43.655716  \n",
       "2          Robbery       26  Downsview-Roding-CFB -79.508595  43.720916  \n",
       "3          Assault      125               Ionview -79.273833  43.725777  \n",
       "4          Assault      107       Oakwood Village -79.447646  43.696259  \n",
       "\n",
       "[5 rows x 27 columns]"
      ]
     },
     "execution_count": 2,
     "metadata": {},
     "output_type": "execute_result"
    }
   ],
   "source": [
    "crimes=pd.read_csv('D:\\\\Divya\\\\Sem 5\\\\DA\\\\Project\\\\MCI_2021.csv')\n",
    "crimes.head()"
   ]
  },
  {
   "cell_type": "code",
   "execution_count": 3,
   "id": "cc648d0c",
   "metadata": {
    "execution": {
     "iopub.execute_input": "2022-11-14T23:02:36.352049Z",
     "iopub.status.busy": "2022-11-14T23:02:36.351625Z",
     "iopub.status.idle": "2022-11-14T23:02:36.387852Z",
     "shell.execute_reply": "2022-11-14T23:02:36.386416Z"
    },
    "papermill": {
     "duration": 0.058259,
     "end_time": "2022-11-14T23:02:36.391031",
     "exception": false,
     "start_time": "2022-11-14T23:02:36.332772",
     "status": "completed"
    },
    "tags": []
   },
   "outputs": [],
   "source": [
    "crimes['occurrencedate'] = crimes['occurrencedate'].str[:10]\n",
    "crimes['reporteddate'] = crimes['reporteddate'].str[:10] "
   ]
  },
  {
   "cell_type": "code",
   "execution_count": 4,
   "id": "156bc28b",
   "metadata": {
    "execution": {
     "iopub.execute_input": "2022-11-14T23:02:36.430342Z",
     "iopub.status.busy": "2022-11-14T23:02:36.429924Z",
     "iopub.status.idle": "2022-11-14T23:02:36.475699Z",
     "shell.execute_reply": "2022-11-14T23:02:36.474656Z"
    },
    "papermill": {
     "duration": 0.067763,
     "end_time": "2022-11-14T23:02:36.478539",
     "exception": false,
     "start_time": "2022-11-14T23:02:36.410776",
     "status": "completed"
    },
    "tags": []
   },
   "outputs": [],
   "source": [
    "crimes['occurrencedate'] =  pd.to_datetime(crimes['occurrencedate'])\n",
    "crimes['reporteddate'] =  pd.to_datetime(crimes['reporteddate'])"
   ]
  },
  {
   "cell_type": "code",
   "execution_count": 5,
   "id": "d3b58a16",
   "metadata": {
    "execution": {
     "iopub.execute_input": "2022-11-14T23:02:36.515687Z",
     "iopub.status.busy": "2022-11-14T23:02:36.515279Z",
     "iopub.status.idle": "2022-11-14T23:02:36.541297Z",
     "shell.execute_reply": "2022-11-14T23:02:36.540063Z"
    },
    "papermill": {
     "duration": 0.048008,
     "end_time": "2022-11-14T23:02:36.544036",
     "exception": false,
     "start_time": "2022-11-14T23:02:36.496028",
     "status": "completed"
    },
    "tags": []
   },
   "outputs": [
    {
     "data": {
      "text/plain": [
       "array(['Friday', 'Saturday', 'Sunday', 'Monday', 'Tuesday', 'Wednesday',\n",
       "       'Thursday'], dtype=object)"
      ]
     },
     "execution_count": 5,
     "metadata": {},
     "output_type": "execute_result"
    }
   ],
   "source": [
    "crimes.occurrencedayofweek = crimes.occurrencedayofweek.str.strip()\n",
    "crimes['occurrencedayofweek'].unique()"
   ]
  },
  {
   "cell_type": "code",
   "execution_count": 6,
   "id": "d561d8b8",
   "metadata": {
    "execution": {
     "iopub.execute_input": "2022-11-14T23:02:36.583631Z",
     "iopub.status.busy": "2022-11-14T23:02:36.583204Z",
     "iopub.status.idle": "2022-11-14T23:02:36.607817Z",
     "shell.execute_reply": "2022-11-14T23:02:36.606357Z"
    },
    "papermill": {
     "duration": 0.047465,
     "end_time": "2022-11-14T23:02:36.610488",
     "exception": false,
     "start_time": "2022-11-14T23:02:36.563023",
     "status": "completed"
    },
    "tags": []
   },
   "outputs": [
    {
     "data": {
      "text/plain": [
       "array(['January', 'February', 'March', 'April', 'May', 'June', 'July',\n",
       "       'August', 'September', 'October', 'November', 'December'],\n",
       "      dtype=object)"
      ]
     },
     "execution_count": 6,
     "metadata": {},
     "output_type": "execute_result"
    }
   ],
   "source": [
    "crimes.occurrencemonth = crimes.occurrencemonth.str.strip()\n",
    "crimes['occurrencemonth'].unique()"
   ]
  },
  {
   "cell_type": "code",
   "execution_count": 7,
   "id": "bf0993f4",
   "metadata": {
    "execution": {
     "iopub.execute_input": "2022-11-14T23:02:36.647872Z",
     "iopub.status.busy": "2022-11-14T23:02:36.647484Z",
     "iopub.status.idle": "2022-11-14T23:02:36.656020Z",
     "shell.execute_reply": "2022-11-14T23:02:36.654749Z"
    },
    "papermill": {
     "duration": 0.03027,
     "end_time": "2022-11-14T23:02:36.658650",
     "exception": false,
     "start_time": "2022-11-14T23:02:36.628380",
     "status": "completed"
    },
    "tags": []
   },
   "outputs": [
    {
     "data": {
      "text/plain": [
       "{'Monday': 1,\n",
       " 'Tuesday': 2,\n",
       " 'Wednesday': 3,\n",
       " 'Thursday': 4,\n",
       " 'Friday': 5,\n",
       " 'Saturday': 6,\n",
       " 'Sunday': 7}"
      ]
     },
     "execution_count": 7,
     "metadata": {},
     "output_type": "execute_result"
    }
   ],
   "source": [
    "sorter = ['Monday', 'Tuesday', 'Wednesday', 'Thursday', 'Friday', 'Saturday','Sunday']\n",
    "sorterIndex = dict(zip(sorter,range(1,len(sorter)+1)))\n",
    "sorterIndex"
   ]
  },
  {
   "cell_type": "code",
   "execution_count": 8,
   "id": "45512066",
   "metadata": {
    "execution": {
     "iopub.execute_input": "2022-11-14T23:02:36.696934Z",
     "iopub.status.busy": "2022-11-14T23:02:36.696502Z",
     "iopub.status.idle": "2022-11-14T23:02:36.705597Z",
     "shell.execute_reply": "2022-11-14T23:02:36.704399Z"
    },
    "papermill": {
     "duration": 0.031515,
     "end_time": "2022-11-14T23:02:36.708042",
     "exception": false,
     "start_time": "2022-11-14T23:02:36.676527",
     "status": "completed"
    },
    "tags": []
   },
   "outputs": [
    {
     "data": {
      "text/plain": [
       "{'January': 1,\n",
       " 'February': 2,\n",
       " 'March': 3,\n",
       " 'April': 4,\n",
       " 'May': 5,\n",
       " 'June': 6,\n",
       " 'July': 7,\n",
       " 'August': 8,\n",
       " 'September': 9,\n",
       " 'October': 10,\n",
       " 'November': 11,\n",
       " 'December': 12}"
      ]
     },
     "execution_count": 8,
     "metadata": {},
     "output_type": "execute_result"
    }
   ],
   "source": [
    "sorter2 = ['January', 'February', 'March', 'April', 'May', 'June', 'July',\n",
    "       'August', 'September', 'October', 'November', 'December']\n",
    "sorterIndex2 = dict(zip(sorter2,range(1,len(sorter2)+1)))      \n",
    "sorterIndex2"
   ]
  },
  {
   "cell_type": "code",
   "execution_count": 9,
   "id": "2a490fcc",
   "metadata": {
    "execution": {
     "iopub.execute_input": "2022-11-14T23:02:36.746808Z",
     "iopub.status.busy": "2022-11-14T23:02:36.746394Z",
     "iopub.status.idle": "2022-11-14T23:02:36.780394Z",
     "shell.execute_reply": "2022-11-14T23:02:36.779227Z"
    },
    "papermill": {
     "duration": 0.056282,
     "end_time": "2022-11-14T23:02:36.783080",
     "exception": false,
     "start_time": "2022-11-14T23:02:36.726798",
     "status": "completed"
    },
    "tags": []
   },
   "outputs": [
    {
     "data": {
      "text/html": [
       "<div>\n",
       "<style scoped>\n",
       "    .dataframe tbody tr th:only-of-type {\n",
       "        vertical-align: middle;\n",
       "    }\n",
       "\n",
       "    .dataframe tbody tr th {\n",
       "        vertical-align: top;\n",
       "    }\n",
       "\n",
       "    .dataframe thead th {\n",
       "        text-align: right;\n",
       "    }\n",
       "</style>\n",
       "<table border=\"1\" class=\"dataframe\">\n",
       "  <thead>\n",
       "    <tr style=\"text-align: right;\">\n",
       "      <th></th>\n",
       "      <th>Index_</th>\n",
       "      <th>event_unique_id</th>\n",
       "      <th>Division</th>\n",
       "      <th>occurrencedate</th>\n",
       "      <th>reporteddate</th>\n",
       "      <th>location_type</th>\n",
       "      <th>premises_type</th>\n",
       "      <th>ucr_code</th>\n",
       "      <th>ucr_ext</th>\n",
       "      <th>offence</th>\n",
       "      <th>...</th>\n",
       "      <th>occurrenceday</th>\n",
       "      <th>occurrencedayofyear</th>\n",
       "      <th>occurrencedayofweek</th>\n",
       "      <th>occurrencehour</th>\n",
       "      <th>mci_category</th>\n",
       "      <th>Hood_ID</th>\n",
       "      <th>Neighbourhood</th>\n",
       "      <th>Longitude</th>\n",
       "      <th>Latitude</th>\n",
       "      <th>day_id</th>\n",
       "    </tr>\n",
       "  </thead>\n",
       "  <tbody>\n",
       "    <tr>\n",
       "      <th>0</th>\n",
       "      <td>246701</td>\n",
       "      <td>GO-20212596</td>\n",
       "      <td>D14</td>\n",
       "      <td>2021-01-01</td>\n",
       "      <td>2021-01-01</td>\n",
       "      <td>Apartment (Rooming House, Condo)</td>\n",
       "      <td>Apartment</td>\n",
       "      <td>1430</td>\n",
       "      <td>100</td>\n",
       "      <td>Assault</td>\n",
       "      <td>...</td>\n",
       "      <td>1</td>\n",
       "      <td>1</td>\n",
       "      <td>Friday</td>\n",
       "      <td>13</td>\n",
       "      <td>Assault</td>\n",
       "      <td>78</td>\n",
       "      <td>Kensington-Chinatown</td>\n",
       "      <td>-79.401107</td>\n",
       "      <td>43.652274</td>\n",
       "      <td>5</td>\n",
       "    </tr>\n",
       "    <tr>\n",
       "      <th>1</th>\n",
       "      <td>246702</td>\n",
       "      <td>GO-20211711</td>\n",
       "      <td>D52</td>\n",
       "      <td>2021-01-01</td>\n",
       "      <td>2021-01-01</td>\n",
       "      <td>Apartment (Rooming House, Condo)</td>\n",
       "      <td>Apartment</td>\n",
       "      <td>2120</td>\n",
       "      <td>200</td>\n",
       "      <td>B&amp;E</td>\n",
       "      <td>...</td>\n",
       "      <td>1</td>\n",
       "      <td>1</td>\n",
       "      <td>Friday</td>\n",
       "      <td>1</td>\n",
       "      <td>Break and Enter</td>\n",
       "      <td>76</td>\n",
       "      <td>Bay Street Corridor</td>\n",
       "      <td>-79.383726</td>\n",
       "      <td>43.655716</td>\n",
       "      <td>5</td>\n",
       "    </tr>\n",
       "    <tr>\n",
       "      <th>2</th>\n",
       "      <td>246703</td>\n",
       "      <td>GO-20212771</td>\n",
       "      <td>D31</td>\n",
       "      <td>2021-01-01</td>\n",
       "      <td>2021-01-01</td>\n",
       "      <td>Other Commercial / Corporate Places (For Profi...</td>\n",
       "      <td>Commercial</td>\n",
       "      <td>1610</td>\n",
       "      <td>200</td>\n",
       "      <td>Robbery - Mugging</td>\n",
       "      <td>...</td>\n",
       "      <td>1</td>\n",
       "      <td>1</td>\n",
       "      <td>Friday</td>\n",
       "      <td>13</td>\n",
       "      <td>Robbery</td>\n",
       "      <td>26</td>\n",
       "      <td>Downsview-Roding-CFB</td>\n",
       "      <td>-79.508595</td>\n",
       "      <td>43.720916</td>\n",
       "      <td>5</td>\n",
       "    </tr>\n",
       "    <tr>\n",
       "      <th>3</th>\n",
       "      <td>246704</td>\n",
       "      <td>GO-20212162</td>\n",
       "      <td>D41</td>\n",
       "      <td>2021-01-01</td>\n",
       "      <td>2021-01-01</td>\n",
       "      <td>Single Home, House (Attach Garage, Cottage, Mo...</td>\n",
       "      <td>House</td>\n",
       "      <td>1430</td>\n",
       "      <td>100</td>\n",
       "      <td>Assault</td>\n",
       "      <td>...</td>\n",
       "      <td>1</td>\n",
       "      <td>1</td>\n",
       "      <td>Friday</td>\n",
       "      <td>8</td>\n",
       "      <td>Assault</td>\n",
       "      <td>125</td>\n",
       "      <td>Ionview</td>\n",
       "      <td>-79.273833</td>\n",
       "      <td>43.725777</td>\n",
       "      <td>5</td>\n",
       "    </tr>\n",
       "    <tr>\n",
       "      <th>4</th>\n",
       "      <td>246912</td>\n",
       "      <td>GO-202118253</td>\n",
       "      <td>D13</td>\n",
       "      <td>2021-01-01</td>\n",
       "      <td>2021-01-04</td>\n",
       "      <td>Parking Lots (Apt., Commercial Or Non-Commercial)</td>\n",
       "      <td>Outside</td>\n",
       "      <td>1430</td>\n",
       "      <td>100</td>\n",
       "      <td>Assault</td>\n",
       "      <td>...</td>\n",
       "      <td>1</td>\n",
       "      <td>1</td>\n",
       "      <td>Friday</td>\n",
       "      <td>20</td>\n",
       "      <td>Assault</td>\n",
       "      <td>107</td>\n",
       "      <td>Oakwood Village</td>\n",
       "      <td>-79.447646</td>\n",
       "      <td>43.696259</td>\n",
       "      <td>5</td>\n",
       "    </tr>\n",
       "  </tbody>\n",
       "</table>\n",
       "<p>5 rows × 28 columns</p>\n",
       "</div>"
      ],
      "text/plain": [
       "   Index_ event_unique_id Division occurrencedate reporteddate  \\\n",
       "0  246701     GO-20212596      D14     2021-01-01   2021-01-01   \n",
       "1  246702     GO-20211711      D52     2021-01-01   2021-01-01   \n",
       "2  246703     GO-20212771      D31     2021-01-01   2021-01-01   \n",
       "3  246704     GO-20212162      D41     2021-01-01   2021-01-01   \n",
       "4  246912    GO-202118253      D13     2021-01-01   2021-01-04   \n",
       "\n",
       "                                       location_type premises_type  ucr_code  \\\n",
       "0                   Apartment (Rooming House, Condo)     Apartment      1430   \n",
       "1                   Apartment (Rooming House, Condo)     Apartment      2120   \n",
       "2  Other Commercial / Corporate Places (For Profi...    Commercial      1610   \n",
       "3  Single Home, House (Attach Garage, Cottage, Mo...         House      1430   \n",
       "4  Parking Lots (Apt., Commercial Or Non-Commercial)       Outside      1430   \n",
       "\n",
       "   ucr_ext            offence  ...  occurrenceday occurrencedayofyear  \\\n",
       "0      100            Assault  ...              1                   1   \n",
       "1      200                B&E  ...              1                   1   \n",
       "2      200  Robbery - Mugging  ...              1                   1   \n",
       "3      100            Assault  ...              1                   1   \n",
       "4      100            Assault  ...              1                   1   \n",
       "\n",
       "   occurrencedayofweek  occurrencehour     mci_category  Hood_ID  \\\n",
       "0               Friday              13          Assault       78   \n",
       "1               Friday               1  Break and Enter       76   \n",
       "2               Friday              13          Robbery       26   \n",
       "3               Friday               8          Assault      125   \n",
       "4               Friday              20          Assault      107   \n",
       "\n",
       "          Neighbourhood  Longitude   Latitude  day_id  \n",
       "0  Kensington-Chinatown -79.401107  43.652274       5  \n",
       "1   Bay Street Corridor -79.383726  43.655716       5  \n",
       "2  Downsview-Roding-CFB -79.508595  43.720916       5  \n",
       "3               Ionview -79.273833  43.725777       5  \n",
       "4       Oakwood Village -79.447646  43.696259       5  \n",
       "\n",
       "[5 rows x 28 columns]"
      ]
     },
     "execution_count": 9,
     "metadata": {},
     "output_type": "execute_result"
    }
   ],
   "source": [
    "crimes['day_id'] = crimes.index\n",
    "crimes['day_id'] = crimes['occurrencedayofweek'].map(sorterIndex)\n",
    "crimes.head()"
   ]
  },
  {
   "cell_type": "code",
   "execution_count": 10,
   "id": "cfc33a20",
   "metadata": {
    "execution": {
     "iopub.execute_input": "2022-11-14T23:02:36.822668Z",
     "iopub.status.busy": "2022-11-14T23:02:36.822246Z",
     "iopub.status.idle": "2022-11-14T23:02:36.832188Z",
     "shell.execute_reply": "2022-11-14T23:02:36.831285Z"
    },
    "papermill": {
     "duration": 0.032038,
     "end_time": "2022-11-14T23:02:36.834379",
     "exception": false,
     "start_time": "2022-11-14T23:02:36.802341",
     "status": "completed"
    },
    "tags": []
   },
   "outputs": [
    {
     "data": {
      "text/plain": [
       "array([5, 6, 7, 1, 2, 3, 4])"
      ]
     },
     "execution_count": 10,
     "metadata": {},
     "output_type": "execute_result"
    }
   ],
   "source": [
    "crimes[\"day_id\"].unique()"
   ]
  },
  {
   "cell_type": "code",
   "execution_count": 11,
   "id": "7001535e",
   "metadata": {
    "execution": {
     "iopub.execute_input": "2022-11-14T23:02:36.873421Z",
     "iopub.status.busy": "2022-11-14T23:02:36.872976Z",
     "iopub.status.idle": "2022-11-14T23:02:36.906755Z",
     "shell.execute_reply": "2022-11-14T23:02:36.905527Z"
    },
    "papermill": {
     "duration": 0.056299,
     "end_time": "2022-11-14T23:02:36.909227",
     "exception": false,
     "start_time": "2022-11-14T23:02:36.852928",
     "status": "completed"
    },
    "tags": []
   },
   "outputs": [
    {
     "data": {
      "text/html": [
       "<div>\n",
       "<style scoped>\n",
       "    .dataframe tbody tr th:only-of-type {\n",
       "        vertical-align: middle;\n",
       "    }\n",
       "\n",
       "    .dataframe tbody tr th {\n",
       "        vertical-align: top;\n",
       "    }\n",
       "\n",
       "    .dataframe thead th {\n",
       "        text-align: right;\n",
       "    }\n",
       "</style>\n",
       "<table border=\"1\" class=\"dataframe\">\n",
       "  <thead>\n",
       "    <tr style=\"text-align: right;\">\n",
       "      <th></th>\n",
       "      <th>Index_</th>\n",
       "      <th>event_unique_id</th>\n",
       "      <th>Division</th>\n",
       "      <th>occurrencedate</th>\n",
       "      <th>reporteddate</th>\n",
       "      <th>location_type</th>\n",
       "      <th>premises_type</th>\n",
       "      <th>ucr_code</th>\n",
       "      <th>ucr_ext</th>\n",
       "      <th>offence</th>\n",
       "      <th>...</th>\n",
       "      <th>occurrencedayofyear</th>\n",
       "      <th>occurrencedayofweek</th>\n",
       "      <th>occurrencehour</th>\n",
       "      <th>mci_category</th>\n",
       "      <th>Hood_ID</th>\n",
       "      <th>Neighbourhood</th>\n",
       "      <th>Longitude</th>\n",
       "      <th>Latitude</th>\n",
       "      <th>day_id</th>\n",
       "      <th>month_id</th>\n",
       "    </tr>\n",
       "  </thead>\n",
       "  <tbody>\n",
       "    <tr>\n",
       "      <th>0</th>\n",
       "      <td>246701</td>\n",
       "      <td>GO-20212596</td>\n",
       "      <td>D14</td>\n",
       "      <td>2021-01-01</td>\n",
       "      <td>2021-01-01</td>\n",
       "      <td>Apartment (Rooming House, Condo)</td>\n",
       "      <td>Apartment</td>\n",
       "      <td>1430</td>\n",
       "      <td>100</td>\n",
       "      <td>Assault</td>\n",
       "      <td>...</td>\n",
       "      <td>1</td>\n",
       "      <td>Friday</td>\n",
       "      <td>13</td>\n",
       "      <td>Assault</td>\n",
       "      <td>78</td>\n",
       "      <td>Kensington-Chinatown</td>\n",
       "      <td>-79.401107</td>\n",
       "      <td>43.652274</td>\n",
       "      <td>5</td>\n",
       "      <td>1</td>\n",
       "    </tr>\n",
       "    <tr>\n",
       "      <th>1</th>\n",
       "      <td>246702</td>\n",
       "      <td>GO-20211711</td>\n",
       "      <td>D52</td>\n",
       "      <td>2021-01-01</td>\n",
       "      <td>2021-01-01</td>\n",
       "      <td>Apartment (Rooming House, Condo)</td>\n",
       "      <td>Apartment</td>\n",
       "      <td>2120</td>\n",
       "      <td>200</td>\n",
       "      <td>B&amp;E</td>\n",
       "      <td>...</td>\n",
       "      <td>1</td>\n",
       "      <td>Friday</td>\n",
       "      <td>1</td>\n",
       "      <td>Break and Enter</td>\n",
       "      <td>76</td>\n",
       "      <td>Bay Street Corridor</td>\n",
       "      <td>-79.383726</td>\n",
       "      <td>43.655716</td>\n",
       "      <td>5</td>\n",
       "      <td>1</td>\n",
       "    </tr>\n",
       "    <tr>\n",
       "      <th>2</th>\n",
       "      <td>246703</td>\n",
       "      <td>GO-20212771</td>\n",
       "      <td>D31</td>\n",
       "      <td>2021-01-01</td>\n",
       "      <td>2021-01-01</td>\n",
       "      <td>Other Commercial / Corporate Places (For Profi...</td>\n",
       "      <td>Commercial</td>\n",
       "      <td>1610</td>\n",
       "      <td>200</td>\n",
       "      <td>Robbery - Mugging</td>\n",
       "      <td>...</td>\n",
       "      <td>1</td>\n",
       "      <td>Friday</td>\n",
       "      <td>13</td>\n",
       "      <td>Robbery</td>\n",
       "      <td>26</td>\n",
       "      <td>Downsview-Roding-CFB</td>\n",
       "      <td>-79.508595</td>\n",
       "      <td>43.720916</td>\n",
       "      <td>5</td>\n",
       "      <td>1</td>\n",
       "    </tr>\n",
       "    <tr>\n",
       "      <th>3</th>\n",
       "      <td>246704</td>\n",
       "      <td>GO-20212162</td>\n",
       "      <td>D41</td>\n",
       "      <td>2021-01-01</td>\n",
       "      <td>2021-01-01</td>\n",
       "      <td>Single Home, House (Attach Garage, Cottage, Mo...</td>\n",
       "      <td>House</td>\n",
       "      <td>1430</td>\n",
       "      <td>100</td>\n",
       "      <td>Assault</td>\n",
       "      <td>...</td>\n",
       "      <td>1</td>\n",
       "      <td>Friday</td>\n",
       "      <td>8</td>\n",
       "      <td>Assault</td>\n",
       "      <td>125</td>\n",
       "      <td>Ionview</td>\n",
       "      <td>-79.273833</td>\n",
       "      <td>43.725777</td>\n",
       "      <td>5</td>\n",
       "      <td>1</td>\n",
       "    </tr>\n",
       "    <tr>\n",
       "      <th>4</th>\n",
       "      <td>246912</td>\n",
       "      <td>GO-202118253</td>\n",
       "      <td>D13</td>\n",
       "      <td>2021-01-01</td>\n",
       "      <td>2021-01-04</td>\n",
       "      <td>Parking Lots (Apt., Commercial Or Non-Commercial)</td>\n",
       "      <td>Outside</td>\n",
       "      <td>1430</td>\n",
       "      <td>100</td>\n",
       "      <td>Assault</td>\n",
       "      <td>...</td>\n",
       "      <td>1</td>\n",
       "      <td>Friday</td>\n",
       "      <td>20</td>\n",
       "      <td>Assault</td>\n",
       "      <td>107</td>\n",
       "      <td>Oakwood Village</td>\n",
       "      <td>-79.447646</td>\n",
       "      <td>43.696259</td>\n",
       "      <td>5</td>\n",
       "      <td>1</td>\n",
       "    </tr>\n",
       "  </tbody>\n",
       "</table>\n",
       "<p>5 rows × 29 columns</p>\n",
       "</div>"
      ],
      "text/plain": [
       "   Index_ event_unique_id Division occurrencedate reporteddate  \\\n",
       "0  246701     GO-20212596      D14     2021-01-01   2021-01-01   \n",
       "1  246702     GO-20211711      D52     2021-01-01   2021-01-01   \n",
       "2  246703     GO-20212771      D31     2021-01-01   2021-01-01   \n",
       "3  246704     GO-20212162      D41     2021-01-01   2021-01-01   \n",
       "4  246912    GO-202118253      D13     2021-01-01   2021-01-04   \n",
       "\n",
       "                                       location_type premises_type  ucr_code  \\\n",
       "0                   Apartment (Rooming House, Condo)     Apartment      1430   \n",
       "1                   Apartment (Rooming House, Condo)     Apartment      2120   \n",
       "2  Other Commercial / Corporate Places (For Profi...    Commercial      1610   \n",
       "3  Single Home, House (Attach Garage, Cottage, Mo...         House      1430   \n",
       "4  Parking Lots (Apt., Commercial Or Non-Commercial)       Outside      1430   \n",
       "\n",
       "   ucr_ext            offence  ...  occurrencedayofyear occurrencedayofweek  \\\n",
       "0      100            Assault  ...                    1              Friday   \n",
       "1      200                B&E  ...                    1              Friday   \n",
       "2      200  Robbery - Mugging  ...                    1              Friday   \n",
       "3      100            Assault  ...                    1              Friday   \n",
       "4      100            Assault  ...                    1              Friday   \n",
       "\n",
       "   occurrencehour     mci_category Hood_ID         Neighbourhood  Longitude  \\\n",
       "0              13          Assault      78  Kensington-Chinatown -79.401107   \n",
       "1               1  Break and Enter      76   Bay Street Corridor -79.383726   \n",
       "2              13          Robbery      26  Downsview-Roding-CFB -79.508595   \n",
       "3               8          Assault     125               Ionview -79.273833   \n",
       "4              20          Assault     107       Oakwood Village -79.447646   \n",
       "\n",
       "    Latitude  day_id  month_id  \n",
       "0  43.652274       5         1  \n",
       "1  43.655716       5         1  \n",
       "2  43.720916       5         1  \n",
       "3  43.725777       5         1  \n",
       "4  43.696259       5         1  \n",
       "\n",
       "[5 rows x 29 columns]"
      ]
     },
     "execution_count": 11,
     "metadata": {},
     "output_type": "execute_result"
    }
   ],
   "source": [
    "crimes['month_id'] = crimes['occurrencemonth'].map(sorterIndex2)\n",
    "crimes.head()"
   ]
  },
  {
   "cell_type": "code",
   "execution_count": 12,
   "id": "1f48541e",
   "metadata": {
    "execution": {
     "iopub.execute_input": "2022-11-14T23:02:36.948897Z",
     "iopub.status.busy": "2022-11-14T23:02:36.948479Z",
     "iopub.status.idle": "2022-11-14T23:02:36.955654Z",
     "shell.execute_reply": "2022-11-14T23:02:36.954611Z"
    },
    "papermill": {
     "duration": 0.029874,
     "end_time": "2022-11-14T23:02:36.957967",
     "exception": false,
     "start_time": "2022-11-14T23:02:36.928093",
     "status": "completed"
    },
    "tags": []
   },
   "outputs": [
    {
     "data": {
      "text/plain": [
       "array([ 1,  2,  3,  4,  5,  6,  7,  8,  9, 10, 11, 12])"
      ]
     },
     "execution_count": 12,
     "metadata": {},
     "output_type": "execute_result"
    }
   ],
   "source": [
    "crimes[\"month_id\"].unique()"
   ]
  },
  {
   "cell_type": "code",
   "execution_count": 13,
   "id": "2ee50b4e",
   "metadata": {
    "execution": {
     "iopub.execute_input": "2022-11-14T23:02:36.998909Z",
     "iopub.status.busy": "2022-11-14T23:02:36.998470Z",
     "iopub.status.idle": "2022-11-14T23:02:37.010871Z",
     "shell.execute_reply": "2022-11-14T23:02:37.009733Z"
    },
    "papermill": {
     "duration": 0.035685,
     "end_time": "2022-11-14T23:02:37.013435",
     "exception": false,
     "start_time": "2022-11-14T23:02:36.977750",
     "status": "completed"
    },
    "tags": []
   },
   "outputs": [
    {
     "data": {
      "text/plain": [
       "Assault            18671\n",
       "Auto Theft          6541\n",
       "Break and Enter     5717\n",
       "Robbery             2280\n",
       "Theft Over          1068\n",
       "Name: mci_category, dtype: int64"
      ]
     },
     "execution_count": 13,
     "metadata": {},
     "output_type": "execute_result"
    }
   ],
   "source": [
    "crimes[\"mci_category\"].value_counts()"
   ]
  },
  {
   "cell_type": "code",
   "execution_count": 14,
   "id": "6e9cde51",
   "metadata": {
    "execution": {
     "iopub.execute_input": "2022-11-14T23:02:37.054244Z",
     "iopub.status.busy": "2022-11-14T23:02:37.053789Z",
     "iopub.status.idle": "2022-11-14T23:02:37.061387Z",
     "shell.execute_reply": "2022-11-14T23:02:37.060309Z"
    },
    "papermill": {
     "duration": 0.031034,
     "end_time": "2022-11-14T23:02:37.063697",
     "exception": false,
     "start_time": "2022-11-14T23:02:37.032663",
     "status": "completed"
    },
    "tags": []
   },
   "outputs": [
    {
     "data": {
      "text/plain": [
       "array([5, 6, 7, 1, 2, 3, 4])"
      ]
     },
     "execution_count": 14,
     "metadata": {},
     "output_type": "execute_result"
    }
   ],
   "source": [
    "crimes[\"day_id\"].unique()"
   ]
  },
  {
   "cell_type": "code",
   "execution_count": 15,
   "id": "a32d701b",
   "metadata": {
    "execution": {
     "iopub.execute_input": "2022-11-14T23:02:37.104030Z",
     "iopub.status.busy": "2022-11-14T23:02:37.103585Z",
     "iopub.status.idle": "2022-11-14T23:02:38.230848Z",
     "shell.execute_reply": "2022-11-14T23:02:38.229836Z"
    },
    "papermill": {
     "duration": 1.150703,
     "end_time": "2022-11-14T23:02:38.233490",
     "exception": false,
     "start_time": "2022-11-14T23:02:37.082787",
     "status": "completed"
    },
    "tags": []
   },
   "outputs": [],
   "source": [
    "from sklearn.preprocessing import LabelEncoder\n",
    "from sklearn.pipeline import Pipeline\n",
    "\n",
    "class MultiColumnLabelEncoder:\n",
    "    def __init__(self,columns = None):\n",
    "        self.columns = columns # array of column names to encode\n",
    "\n",
    "    def fit(self,X,y=None):\n",
    "        return self # not relevant here\n",
    "\n",
    "    def transform(self,X):\n",
    "        '''\n",
    "        Transforms columns of X specified in self.columns using\n",
    "        LabelEncoder(). If no columns specified, transforms all\n",
    "        columns in X.\n",
    "        '''\n",
    "        output = X.copy()\n",
    "        if self.columns is not None:\n",
    "            for col in self.columns:\n",
    "                output[col] = LabelEncoder().fit_transform(output[col])\n",
    "        else:\n",
    "            for colname,col in output.iteritems():\n",
    "                output[colname] = LabelEncoder().fit_transform(col)\n",
    "        return output\n",
    "\n",
    "    def fit_transform(self,X,y=None):\n",
    "        return self.fit(X,y).transform(X)"
   ]
  },
  {
   "cell_type": "code",
   "execution_count": 16,
   "id": "d0e1e44d",
   "metadata": {
    "execution": {
     "iopub.execute_input": "2022-11-14T23:02:38.274026Z",
     "iopub.status.busy": "2022-11-14T23:02:38.273597Z",
     "iopub.status.idle": "2022-11-14T23:02:38.278739Z",
     "shell.execute_reply": "2022-11-14T23:02:38.277562Z"
    },
    "papermill": {
     "duration": 0.028402,
     "end_time": "2022-11-14T23:02:38.281220",
     "exception": false,
     "start_time": "2022-11-14T23:02:38.252818",
     "status": "completed"
    },
    "tags": []
   },
   "outputs": [],
   "source": [
    "data=crimes"
   ]
  },
  {
   "cell_type": "code",
   "execution_count": 17,
   "id": "c7781cfc",
   "metadata": {
    "execution": {
     "iopub.execute_input": "2022-11-14T23:02:38.322319Z",
     "iopub.status.busy": "2022-11-14T23:02:38.321597Z",
     "iopub.status.idle": "2022-11-14T23:02:38.393947Z",
     "shell.execute_reply": "2022-11-14T23:02:38.392953Z"
    },
    "papermill": {
     "duration": 0.096017,
     "end_time": "2022-11-14T23:02:38.396663",
     "exception": false,
     "start_time": "2022-11-14T23:02:38.300646",
     "status": "completed"
    },
    "tags": []
   },
   "outputs": [],
   "source": [
    "crimes = MultiColumnLabelEncoder(columns = ['premises_type','offence','Neighbourhood', \"mci_category\"]).fit_transform(crimes)\n"
   ]
  },
  {
   "cell_type": "code",
   "execution_count": 18,
   "id": "7c8c472f",
   "metadata": {
    "execution": {
     "iopub.execute_input": "2022-11-14T23:02:38.439028Z",
     "iopub.status.busy": "2022-11-14T23:02:38.438550Z",
     "iopub.status.idle": "2022-11-14T23:02:38.443599Z",
     "shell.execute_reply": "2022-11-14T23:02:38.442243Z"
    },
    "papermill": {
     "duration": 0.030456,
     "end_time": "2022-11-14T23:02:38.446242",
     "exception": false,
     "start_time": "2022-11-14T23:02:38.415786",
     "status": "completed"
    },
    "tags": []
   },
   "outputs": [],
   "source": [
    "#crimes['Hood_ID'] = crimes['Hood_ID'].replace('NSA','141')"
   ]
  },
  {
   "cell_type": "code",
   "execution_count": 19,
   "id": "6fa76873",
   "metadata": {
    "execution": {
     "iopub.execute_input": "2022-11-14T23:02:38.486639Z",
     "iopub.status.busy": "2022-11-14T23:02:38.486252Z",
     "iopub.status.idle": "2022-11-14T23:02:38.496814Z",
     "shell.execute_reply": "2022-11-14T23:02:38.495653Z"
    },
    "papermill": {
     "duration": 0.033687,
     "end_time": "2022-11-14T23:02:38.499353",
     "exception": false,
     "start_time": "2022-11-14T23:02:38.465666",
     "status": "completed"
    },
    "tags": []
   },
   "outputs": [
    {
     "name": "stdout",
     "output_type": "stream",
     "text": [
      "Outside        9402\n",
      "Apartment      8610\n",
      "Commercial     6274\n",
      "House          5903\n",
      "Other          2341\n",
      "Transit        1156\n",
      "Educational     591\n",
      "Name: premises_type, dtype: int64\n",
      "5    9402\n",
      "0    8610\n",
      "1    6274\n",
      "3    5903\n",
      "4    2341\n",
      "6    1156\n",
      "2     591\n",
      "Name: premises_type, dtype: int64\n"
     ]
    }
   ],
   "source": [
    "print(data['premises_type'].value_counts())\n",
    "print(crimes['premises_type'].value_counts())"
   ]
  },
  {
   "cell_type": "code",
   "execution_count": 20,
   "id": "f8ba5814",
   "metadata": {
    "execution": {
     "iopub.execute_input": "2022-11-14T23:02:38.539668Z",
     "iopub.status.busy": "2022-11-14T23:02:38.539269Z",
     "iopub.status.idle": "2022-11-14T23:02:38.552072Z",
     "shell.execute_reply": "2022-11-14T23:02:38.550197Z"
    },
    "papermill": {
     "duration": 0.035919,
     "end_time": "2022-11-14T23:02:38.554466",
     "exception": false,
     "start_time": "2022-11-14T23:02:38.518547",
     "status": "completed"
    },
    "tags": []
   },
   "outputs": [
    {
     "name": "stdout",
     "output_type": "stream",
     "text": [
      "Waterfront Communities-The Island    1528\n",
      "Church-Yonge Corridor                1431\n",
      "West Humber-Clairville                941\n",
      "Moss Park                             919\n",
      "Bay Street Corridor                   798\n",
      "                                     ... \n",
      "Maple Leaf                             60\n",
      "Princess-Rosethorn                     59\n",
      "Guildwood                              54\n",
      "Lambton Baby Point                     51\n",
      "Woodbine-Lumsden                       48\n",
      "Name: Neighbourhood, Length: 141, dtype: int64\n",
      "123    1528\n",
      "23     1431\n",
      "125     941\n",
      "79      919\n",
      "6       798\n",
      "       ... \n",
      "74       60\n",
      "100      59\n",
      "47       54\n",
      "66       51\n",
      "135      48\n",
      "Name: Neighbourhood, Length: 141, dtype: int64\n"
     ]
    }
   ],
   "source": [
    "print(data['Neighbourhood'].value_counts())\n",
    "print(crimes['Neighbourhood'].value_counts())"
   ]
  },
  {
   "cell_type": "code",
   "execution_count": 21,
   "id": "ea8bd5bf",
   "metadata": {
    "execution": {
     "iopub.execute_input": "2022-11-14T23:02:38.596288Z",
     "iopub.status.busy": "2022-11-14T23:02:38.595845Z",
     "iopub.status.idle": "2022-11-14T23:02:38.607240Z",
     "shell.execute_reply": "2022-11-14T23:02:38.605002Z"
    },
    "papermill": {
     "duration": 0.034949,
     "end_time": "2022-11-14T23:02:38.610167",
     "exception": false,
     "start_time": "2022-11-14T23:02:38.575218",
     "status": "completed"
    },
    "tags": []
   },
   "outputs": [
    {
     "name": "stdout",
     "output_type": "stream",
     "text": [
      "Assault            18671\n",
      "Auto Theft          6541\n",
      "Break and Enter     5717\n",
      "Robbery             2280\n",
      "Theft Over          1068\n",
      "Name: mci_category, dtype: int64\n",
      "0    18671\n",
      "1     6541\n",
      "2     5717\n",
      "3     2280\n",
      "4     1068\n",
      "Name: mci_category, dtype: int64\n"
     ]
    }
   ],
   "source": [
    "print(data['mci_category'].value_counts())\n",
    "print(crimes['mci_category'].value_counts())"
   ]
  },
  {
   "cell_type": "markdown",
   "id": "7283c488",
   "metadata": {
    "papermill": {
     "duration": 0.019153,
     "end_time": "2022-11-14T23:02:38.649161",
     "exception": false,
     "start_time": "2022-11-14T23:02:38.630008",
     "status": "completed"
    },
    "tags": []
   },
   "source": [
    "Handling imbalanced datasets"
   ]
  },
  {
   "cell_type": "code",
   "execution_count": 22,
   "id": "113eeb50",
   "metadata": {
    "execution": {
     "iopub.execute_input": "2022-11-14T23:02:38.689597Z",
     "iopub.status.busy": "2022-11-14T23:02:38.689189Z",
     "iopub.status.idle": "2022-11-14T23:02:38.702059Z",
     "shell.execute_reply": "2022-11-14T23:02:38.700995Z"
    },
    "papermill": {
     "duration": 0.036132,
     "end_time": "2022-11-14T23:02:38.704544",
     "exception": false,
     "start_time": "2022-11-14T23:02:38.668412",
     "status": "completed"
    },
    "tags": []
   },
   "outputs": [],
   "source": [
    "# define X and y\n",
    "feature_cols = ['premises_type', 'occurrenceyear', 'month_id', \n",
    "                'day_id', 'occurrencedayofyear', 'occurrencehour', \n",
    "                'Neighbourhood', 'Latitude', 'Longitude']\n",
    "X = crimes[feature_cols]\n",
    "y = crimes.mci_category"
   ]
  },
  {
   "cell_type": "code",
   "execution_count": 23,
   "id": "6bb974d1",
   "metadata": {
    "execution": {
     "iopub.execute_input": "2022-11-14T23:02:38.745490Z",
     "iopub.status.busy": "2022-11-14T23:02:38.745113Z",
     "iopub.status.idle": "2022-11-14T23:02:39.328740Z",
     "shell.execute_reply": "2022-11-14T23:02:39.327697Z"
    },
    "papermill": {
     "duration": 0.60747,
     "end_time": "2022-11-14T23:02:39.331471",
     "exception": false,
     "start_time": "2022-11-14T23:02:38.724001",
     "status": "completed"
    },
    "tags": []
   },
   "outputs": [],
   "source": [
    "from imblearn.over_sampling import SMOTE\n",
    "    \n",
    "sm = SMOTE(random_state=42)\n",
    "X_res, y_res = sm.fit_resample(X,y)"
   ]
  },
  {
   "cell_type": "markdown",
   "id": "74faea17",
   "metadata": {
    "papermill": {
     "duration": 0.019303,
     "end_time": "2022-11-14T23:02:39.370131",
     "exception": false,
     "start_time": "2022-11-14T23:02:39.350828",
     "status": "completed"
    },
    "tags": []
   },
   "source": [
    "Train Test Split"
   ]
  },
  {
   "cell_type": "code",
   "execution_count": 24,
   "id": "aaf17cf5",
   "metadata": {
    "execution": {
     "iopub.execute_input": "2022-11-14T23:02:39.411451Z",
     "iopub.status.busy": "2022-11-14T23:02:39.411056Z",
     "iopub.status.idle": "2022-11-14T23:02:39.416174Z",
     "shell.execute_reply": "2022-11-14T23:02:39.414732Z"
    },
    "papermill": {
     "duration": 0.029073,
     "end_time": "2022-11-14T23:02:39.418638",
     "exception": false,
     "start_time": "2022-11-14T23:02:39.389565",
     "status": "completed"
    },
    "tags": []
   },
   "outputs": [],
   "source": [
    "from sklearn.model_selection import train_test_split"
   ]
  },
  {
   "cell_type": "code",
   "execution_count": 25,
   "id": "612374d1",
   "metadata": {
    "execution": {
     "iopub.execute_input": "2022-11-14T23:02:39.460659Z",
     "iopub.status.busy": "2022-11-14T23:02:39.460257Z",
     "iopub.status.idle": "2022-11-14T23:02:39.489232Z",
     "shell.execute_reply": "2022-11-14T23:02:39.488119Z"
    },
    "papermill": {
     "duration": 0.052884,
     "end_time": "2022-11-14T23:02:39.491729",
     "exception": false,
     "start_time": "2022-11-14T23:02:39.438845",
     "status": "completed"
    },
    "tags": []
   },
   "outputs": [],
   "source": [
    "X_train, X_test, y_train, y_test = train_test_split(X_res, y_res, test_size=0.33, random_state=42)"
   ]
  },
  {
   "cell_type": "markdown",
   "id": "6d37e5d3",
   "metadata": {
    "papermill": {
     "duration": 0.019505,
     "end_time": "2022-11-14T23:02:39.530941",
     "exception": false,
     "start_time": "2022-11-14T23:02:39.511436",
     "status": "completed"
    },
    "tags": []
   },
   "source": [
    "**MODELS**"
   ]
  },
  {
   "cell_type": "markdown",
   "id": "ec3990b0",
   "metadata": {
    "papermill": {
     "duration": 0.018587,
     "end_time": "2022-11-14T23:02:39.568579",
     "exception": false,
     "start_time": "2022-11-14T23:02:39.549992",
     "status": "completed"
    },
    "tags": []
   },
   "source": [
    "**Decision Tree Classifier**"
   ]
  },
  {
   "cell_type": "code",
   "execution_count": 26,
   "id": "048ce0d7",
   "metadata": {
    "execution": {
     "iopub.execute_input": "2022-11-14T23:02:39.611535Z",
     "iopub.status.busy": "2022-11-14T23:02:39.610753Z",
     "iopub.status.idle": "2022-11-14T23:02:39.822778Z",
     "shell.execute_reply": "2022-11-14T23:02:39.821644Z"
    },
    "papermill": {
     "duration": 0.236414,
     "end_time": "2022-11-14T23:02:39.825376",
     "exception": false,
     "start_time": "2022-11-14T23:02:39.588962",
     "status": "completed"
    },
    "tags": []
   },
   "outputs": [
    {
     "data": {
      "text/plain": [
       "DecisionTreeClassifier(criterion='entropy', max_depth=4, min_samples_split=300,\n",
       "                       random_state=1)"
      ]
     },
     "execution_count": 26,
     "metadata": {},
     "output_type": "execute_result"
    }
   ],
   "source": [
    "from sklearn.tree import DecisionTreeClassifier\n",
    "from sklearn.model_selection import GridSearchCV\n",
    "\n",
    "param_grid = {'min_samples_split':[50, 300, 500, 600] }\n",
    "\n",
    "treeclf = DecisionTreeClassifier(min_samples_split=300, \n",
    "                                 criterion='entropy', max_depth=4, \n",
    "                                 random_state=1)\n",
    "\n",
    "#treeclf = GridSearchCV(DecisionTreeClassifier(criterion='entropy', max_depth=6, \n",
    "#                                 random_state=1), param_grid)\n",
    "\n",
    "treeclf.fit(X_train, y_train)"
   ]
  },
  {
   "cell_type": "code",
   "execution_count": 27,
   "id": "7bf174fb",
   "metadata": {
    "execution": {
     "iopub.execute_input": "2022-11-14T23:02:39.866793Z",
     "iopub.status.busy": "2022-11-14T23:02:39.866076Z",
     "iopub.status.idle": "2022-11-14T23:02:55.721581Z",
     "shell.execute_reply": "2022-11-14T23:02:55.719935Z"
    },
    "papermill": {
     "duration": 15.87923,
     "end_time": "2022-11-14T23:02:55.724374",
     "exception": false,
     "start_time": "2022-11-14T23:02:39.845144",
     "status": "completed"
    },
    "tags": []
   },
   "outputs": [
    {
     "name": "stdout",
     "output_type": "stream",
     "text": [
      "Collecting pydotplus\r\n",
      "  Downloading pydotplus-2.0.2.tar.gz (278 kB)\r\n",
      "\u001b[2K     \u001b[90m━━━━━━━━━━━━━━━━━━━━━━━━━━━━━━━━━━━━━━━\u001b[0m \u001b[32m278.7/278.7 kB\u001b[0m \u001b[31m1.3 MB/s\u001b[0m eta \u001b[36m0:00:00\u001b[0m\r\n",
      "\u001b[?25h  Preparing metadata (setup.py) ... \u001b[?25l-\b \bdone\r\n",
      "\u001b[?25hRequirement already satisfied: pyparsing>=2.0.1 in /opt/conda/lib/python3.7/site-packages (from pydotplus) (3.0.9)\r\n",
      "Building wheels for collected packages: pydotplus\r\n",
      "  Building wheel for pydotplus (setup.py) ... \u001b[?25l-\b \b\\\b \bdone\r\n",
      "\u001b[?25h  Created wheel for pydotplus: filename=pydotplus-2.0.2-py3-none-any.whl size=24575 sha256=1db12d15452837f714edb377aa0bd0a42e9f956cccf968c38da06402159993c9\r\n",
      "  Stored in directory: /root/.cache/pip/wheels/1e/7b/04/7387cf6cc9e48b4a96e361b0be812f0708b394b821bf8c9c50\r\n",
      "Successfully built pydotplus\r\n",
      "Installing collected packages: pydotplus\r\n",
      "Successfully installed pydotplus-2.0.2\r\n",
      "\u001b[33mWARNING: Running pip as the 'root' user can result in broken permissions and conflicting behaviour with the system package manager. It is recommended to use a virtual environment instead: https://pip.pypa.io/warnings/venv\u001b[0m\u001b[33m\r\n",
      "\u001b[0mNote: you may need to restart the kernel to use updated packages.\n"
     ]
    }
   ],
   "source": [
    "pip install pydotplus"
   ]
  },
  {
   "cell_type": "code",
   "execution_count": 28,
   "id": "795fabb3",
   "metadata": {
    "execution": {
     "iopub.execute_input": "2022-11-14T23:02:55.768314Z",
     "iopub.status.busy": "2022-11-14T23:02:55.767860Z",
     "iopub.status.idle": "2022-11-14T23:02:57.663663Z",
     "shell.execute_reply": "2022-11-14T23:02:57.662449Z"
    },
    "papermill": {
     "duration": 1.9289,
     "end_time": "2022-11-14T23:02:57.674067",
     "exception": false,
     "start_time": "2022-11-14T23:02:55.745167",
     "status": "completed"
    },
    "tags": []
   },
   "outputs": [
    {
     "data": {
      "image/png": "[encoded data removed]",
      "text/plain": [
       "<IPython.core.display.Image object>"
      ]
     },
     "execution_count": 28,
     "metadata": {},
     "output_type": "execute_result"
    }
   ],
   "source": [
    "# create a Graphviz file\n",
    "from sklearn.tree import export_graphviz\n",
    "from IPython.display import Image\n",
    "%matplotlib inline\n",
    "import pylab, pydotplus\n",
    "from six import StringIO\n",
    "\n",
    "dot_data = StringIO() \n",
    "export_graphviz(treeclf, \n",
    "                out_file=dot_data, \n",
    "                feature_names=X_train.columns, \n",
    "                class_names=['Assault', 'Break and Enter', \n",
    "                             'Robbery', 'Auto Theft', 'Theft Over'],\n",
    "                filled=True, \n",
    "                rounded=True,  \n",
    "                leaves_parallel=False,\n",
    "                rotate=False,\n",
    "                special_characters=True)  \n",
    "graph = pydotplus.graph_from_dot_data(dot_data.getvalue()) \n",
    "Image(graph.create_png())"
   ]
  },
  {
   "cell_type": "markdown",
   "id": "e6fdb2c9",
   "metadata": {
    "papermill": {
     "duration": 0.031009,
     "end_time": "2022-11-14T23:02:57.735553",
     "exception": false,
     "start_time": "2022-11-14T23:02:57.704544",
     "status": "completed"
    },
    "tags": []
   },
   "source": [
    "Feature Importance"
   ]
  },
  {
   "cell_type": "code",
   "execution_count": 29,
   "id": "89929896",
   "metadata": {
    "execution": {
     "iopub.execute_input": "2022-11-14T23:02:57.798841Z",
     "iopub.status.busy": "2022-11-14T23:02:57.798025Z",
     "iopub.status.idle": "2022-11-14T23:02:57.813114Z",
     "shell.execute_reply": "2022-11-14T23:02:57.812245Z"
    },
    "papermill": {
     "duration": 0.050117,
     "end_time": "2022-11-14T23:02:57.815366",
     "exception": false,
     "start_time": "2022-11-14T23:02:57.765249",
     "status": "completed"
    },
    "tags": []
   },
   "outputs": [
    {
     "data": {
      "text/html": [
       "<div>\n",
       "<style scoped>\n",
       "    .dataframe tbody tr th:only-of-type {\n",
       "        vertical-align: middle;\n",
       "    }\n",
       "\n",
       "    .dataframe tbody tr th {\n",
       "        vertical-align: top;\n",
       "    }\n",
       "\n",
       "    .dataframe thead th {\n",
       "        text-align: right;\n",
       "    }\n",
       "</style>\n",
       "<table border=\"1\" class=\"dataframe\">\n",
       "  <thead>\n",
       "    <tr style=\"text-align: right;\">\n",
       "      <th></th>\n",
       "      <th>feature</th>\n",
       "      <th>importance</th>\n",
       "    </tr>\n",
       "  </thead>\n",
       "  <tbody>\n",
       "    <tr>\n",
       "      <th>0</th>\n",
       "      <td>premises_type</td>\n",
       "      <td>0.792211</td>\n",
       "    </tr>\n",
       "    <tr>\n",
       "      <th>5</th>\n",
       "      <td>occurrencehour</td>\n",
       "      <td>0.142518</td>\n",
       "    </tr>\n",
       "    <tr>\n",
       "      <th>8</th>\n",
       "      <td>Longitude</td>\n",
       "      <td>0.029033</td>\n",
       "    </tr>\n",
       "    <tr>\n",
       "      <th>7</th>\n",
       "      <td>Latitude</td>\n",
       "      <td>0.016985</td>\n",
       "    </tr>\n",
       "    <tr>\n",
       "      <th>3</th>\n",
       "      <td>day_id</td>\n",
       "      <td>0.014941</td>\n",
       "    </tr>\n",
       "    <tr>\n",
       "      <th>4</th>\n",
       "      <td>occurrencedayofyear</td>\n",
       "      <td>0.004311</td>\n",
       "    </tr>\n",
       "    <tr>\n",
       "      <th>1</th>\n",
       "      <td>occurrenceyear</td>\n",
       "      <td>0.000000</td>\n",
       "    </tr>\n",
       "    <tr>\n",
       "      <th>2</th>\n",
       "      <td>month_id</td>\n",
       "      <td>0.000000</td>\n",
       "    </tr>\n",
       "    <tr>\n",
       "      <th>6</th>\n",
       "      <td>Neighbourhood</td>\n",
       "      <td>0.000000</td>\n",
       "    </tr>\n",
       "  </tbody>\n",
       "</table>\n",
       "</div>"
      ],
      "text/plain": [
       "               feature  importance\n",
       "0        premises_type    0.792211\n",
       "5       occurrencehour    0.142518\n",
       "8            Longitude    0.029033\n",
       "7             Latitude    0.016985\n",
       "3               day_id    0.014941\n",
       "4  occurrencedayofyear    0.004311\n",
       "1       occurrenceyear    0.000000\n",
       "2             month_id    0.000000\n",
       "6        Neighbourhood    0.000000"
      ]
     },
     "execution_count": 29,
     "metadata": {},
     "output_type": "execute_result"
    }
   ],
   "source": [
    "# \"Gini importance\" of each feature: the total reduction of error brought by that feature\n",
    "pd.DataFrame({'feature':X_train.columns, 'importance':treeclf.feature_importances_}).sort_values(['importance'], ascending=[0])"
   ]
  },
  {
   "cell_type": "code",
   "execution_count": 30,
   "id": "062777eb",
   "metadata": {
    "execution": {
     "iopub.execute_input": "2022-11-14T23:02:57.877802Z",
     "iopub.status.busy": "2022-11-14T23:02:57.877087Z",
     "iopub.status.idle": "2022-11-14T23:02:57.889145Z",
     "shell.execute_reply": "2022-11-14T23:02:57.887783Z"
    },
    "papermill": {
     "duration": 0.047282,
     "end_time": "2022-11-14T23:02:57.892699",
     "exception": false,
     "start_time": "2022-11-14T23:02:57.845417",
     "status": "completed"
    },
    "tags": []
   },
   "outputs": [
    {
     "name": "stdout",
     "output_type": "stream",
     "text": [
      "[2 3 1 ... 0 2 4]\n"
     ]
    }
   ],
   "source": [
    "y_pred = treeclf.predict(X_test)\n",
    "print(y_pred)"
   ]
  },
  {
   "cell_type": "markdown",
   "id": "689997b4",
   "metadata": {
    "papermill": {
     "duration": 0.03113,
     "end_time": "2022-11-14T23:02:57.954955",
     "exception": false,
     "start_time": "2022-11-14T23:02:57.923825",
     "status": "completed"
    },
    "tags": []
   },
   "source": [
    "Mean Square Error"
   ]
  },
  {
   "cell_type": "code",
   "execution_count": 31,
   "id": "c3b1bdf7",
   "metadata": {
    "execution": {
     "iopub.execute_input": "2022-11-14T23:02:58.017203Z",
     "iopub.status.busy": "2022-11-14T23:02:58.016761Z",
     "iopub.status.idle": "2022-11-14T23:02:58.025267Z",
     "shell.execute_reply": "2022-11-14T23:02:58.024393Z"
    },
    "papermill": {
     "duration": 0.042158,
     "end_time": "2022-11-14T23:02:58.027296",
     "exception": false,
     "start_time": "2022-11-14T23:02:57.985138",
     "status": "completed"
    },
    "tags": []
   },
   "outputs": [
    {
     "data": {
      "text/plain": [
       "2.7921319137886265"
      ]
     },
     "execution_count": 31,
     "metadata": {},
     "output_type": "execute_result"
    }
   ],
   "source": [
    "from sklearn import metrics\n",
    "metrics.mean_squared_error(y_test, y_pred)"
   ]
  },
  {
   "cell_type": "markdown",
   "id": "860e5a3a",
   "metadata": {
    "papermill": {
     "duration": 0.030291,
     "end_time": "2022-11-14T23:02:58.088032",
     "exception": false,
     "start_time": "2022-11-14T23:02:58.057741",
     "status": "completed"
    },
    "tags": []
   },
   "source": [
    "Accuracy"
   ]
  },
  {
   "cell_type": "code",
   "execution_count": 32,
   "id": "ced69d90",
   "metadata": {
    "execution": {
     "iopub.execute_input": "2022-11-14T23:02:58.151014Z",
     "iopub.status.busy": "2022-11-14T23:02:58.150364Z",
     "iopub.status.idle": "2022-11-14T23:02:58.324275Z",
     "shell.execute_reply": "2022-11-14T23:02:58.322942Z"
    },
    "papermill": {
     "duration": 0.208605,
     "end_time": "2022-11-14T23:02:58.327084",
     "exception": false,
     "start_time": "2022-11-14T23:02:58.118479",
     "status": "completed"
    },
    "tags": []
   },
   "outputs": [],
   "source": [
    "from sklearn.tree import DecisionTreeClassifier\n",
    "from sklearn.model_selection import GridSearchCV\n",
    "\n",
    "param_grid = {'min_samples_split':[50, 300, 500, 600] }\n",
    "\n",
    "treeclf = DecisionTreeClassifier(min_samples_split=300, \n",
    "                                 criterion='gini', max_depth=4, \n",
    "                                 random_state=1)\n",
    "\n",
    "#treeclf = GridSearchCV(DecisionTreeClassifier(criterion='entropy', max_depth=6, random_state=1), param_grid)                                 random_state=1), param_grid)\n",
    "\n",
    "treeclf.fit(X_train, y_train)\n",
    "y_pred = treeclf.predict(X_test)"
   ]
  },
  {
   "cell_type": "code",
   "execution_count": 33,
   "id": "5597a60a",
   "metadata": {
    "execution": {
     "iopub.execute_input": "2022-11-14T23:02:58.389213Z",
     "iopub.status.busy": "2022-11-14T23:02:58.388745Z",
     "iopub.status.idle": "2022-11-14T23:02:58.399125Z",
     "shell.execute_reply": "2022-11-14T23:02:58.397951Z"
    },
    "papermill": {
     "duration": 0.044272,
     "end_time": "2022-11-14T23:02:58.401509",
     "exception": false,
     "start_time": "2022-11-14T23:02:58.357237",
     "status": "completed"
    },
    "tags": []
   },
   "outputs": [
    {
     "data": {
      "text/plain": [
       "0.4063879511815113"
      ]
     },
     "execution_count": 33,
     "metadata": {},
     "output_type": "execute_result"
    }
   ],
   "source": [
    "metrics.accuracy_score(y_test, y_pred)"
   ]
  },
  {
   "cell_type": "markdown",
   "id": "cd1a07f6",
   "metadata": {
    "papermill": {
     "duration": 0.030317,
     "end_time": "2022-11-14T23:02:58.462590",
     "exception": false,
     "start_time": "2022-11-14T23:02:58.432273",
     "status": "completed"
    },
    "tags": []
   },
   "source": [
    "Log-Loss"
   ]
  },
  {
   "cell_type": "code",
   "execution_count": 34,
   "id": "3f79c59f",
   "metadata": {
    "execution": {
     "iopub.execute_input": "2022-11-14T23:02:58.525733Z",
     "iopub.status.busy": "2022-11-14T23:02:58.525307Z",
     "iopub.status.idle": "2022-11-14T23:02:58.549585Z",
     "shell.execute_reply": "2022-11-14T23:02:58.548315Z"
    },
    "papermill": {
     "duration": 0.058826,
     "end_time": "2022-11-14T23:02:58.552039",
     "exception": false,
     "start_time": "2022-11-14T23:02:58.493213",
     "status": "completed"
    },
    "tags": []
   },
   "outputs": [
    {
     "data": {
      "text/plain": [
       "1.3622311447056537"
      ]
     },
     "execution_count": 34,
     "metadata": {},
     "output_type": "execute_result"
    }
   ],
   "source": [
    "pred = treeclf.predict_proba(X_test)\n",
    "eval = metrics.log_loss(y_test,pred) \n",
    "eval"
   ]
  },
  {
   "cell_type": "code",
   "execution_count": 35,
   "id": "34639142",
   "metadata": {
    "execution": {
     "iopub.execute_input": "2022-11-14T23:02:58.616859Z",
     "iopub.status.busy": "2022-11-14T23:02:58.616208Z",
     "iopub.status.idle": "2022-11-14T23:02:58.699625Z",
     "shell.execute_reply": "2022-11-14T23:02:58.697647Z"
    },
    "papermill": {
     "duration": 0.119661,
     "end_time": "2022-11-14T23:02:58.702952",
     "exception": false,
     "start_time": "2022-11-14T23:02:58.583291",
     "status": "completed"
    },
    "tags": []
   },
   "outputs": [
    {
     "name": "stdout",
     "output_type": "stream",
     "text": [
      "Accuracy of Random Forest :  0.4063879511815113\n",
      "[[1043 1238  573 1324 1883]\n",
      " [  61 3797  292 1311  871]\n",
      " [ 406  929 2616  520 1701]\n",
      " [ 316 1289  456 2083 2075]\n",
      " [ 147 1248 1059  589 2981]]\n",
      "              precision    recall  f1-score   support\n",
      "\n",
      "           0       0.53      0.17      0.26      6061\n",
      "           1       0.45      0.60      0.51      6332\n",
      "           2       0.52      0.42      0.47      6172\n",
      "           3       0.36      0.33      0.35      6219\n",
      "           4       0.31      0.49      0.38      6024\n",
      "\n",
      "    accuracy                           0.41     30808\n",
      "   macro avg       0.43      0.41      0.39     30808\n",
      "weighted avg       0.43      0.41      0.40     30808\n",
      "\n"
     ]
    }
   ],
   "source": [
    "from sklearn.metrics import confusion_matrix\n",
    "from sklearn.metrics import classification_report\n",
    "from sklearn.metrics import accuracy_score\n",
    "print(\"Accuracy of Random Forest : \",accuracy_score(y_test, y_pred))\n",
    "print(confusion_matrix(y_test, y_pred)) \n",
    "#MCI_list=df[\"mci_category\"].unique()\n",
    "print(classification_report(y_test,y_pred))"
   ]
  },
  {
   "cell_type": "code",
   "execution_count": 36,
   "id": "ff318650",
   "metadata": {
    "execution": {
     "iopub.execute_input": "2022-11-14T23:02:58.767684Z",
     "iopub.status.busy": "2022-11-14T23:02:58.767261Z",
     "iopub.status.idle": "2022-11-14T23:03:19.107913Z",
     "shell.execute_reply": "2022-11-14T23:03:19.106386Z"
    },
    "papermill": {
     "duration": 20.376609,
     "end_time": "2022-11-14T23:03:19.110513",
     "exception": false,
     "start_time": "2022-11-14T23:02:58.733904",
     "status": "completed"
    },
    "tags": []
   },
   "outputs": [
    {
     "name": "stdout",
     "output_type": "stream",
     "text": [
      "Collecting gradio\r\n",
      "  Downloading gradio-3.9.1-py3-none-any.whl (11.6 MB)\r\n",
      "\u001b[2K     \u001b[90m━━━━━━━━━━━━━━━━━━━━━━━━━━━━━━━━━━━━━━━━\u001b[0m \u001b[32m11.6/11.6 MB\u001b[0m \u001b[31m29.0 MB/s\u001b[0m eta \u001b[36m0:00:00\u001b[0m\r\n",
      "\u001b[?25hRequirement already satisfied: uvicorn in /opt/conda/lib/python3.7/site-packages (from gradio) (0.18.3)\r\n",
      "Requirement already satisfied: numpy in /opt/conda/lib/python3.7/site-packages (from gradio) (1.21.6)\r\n",
      "Collecting ffmpy\r\n",
      "  Downloading ffmpy-0.3.0.tar.gz (4.8 kB)\r\n",
      "  Preparing metadata (setup.py) ... \u001b[?25l-\b \bdone\r\n",
      "\u001b[?25hCollecting httpx\r\n",
      "  Downloading httpx-0.23.0-py3-none-any.whl (84 kB)\r\n",
      "\u001b[2K     \u001b[90m━━━━━━━━━━━━━━━━━━━━━━━━━━━━━━━━━━━━━━━━\u001b[0m \u001b[32m84.8/84.8 kB\u001b[0m \u001b[31m6.5 MB/s\u001b[0m eta \u001b[36m0:00:00\u001b[0m\r\n",
      "\u001b[?25hCollecting python-multipart\r\n",
      "  Downloading python-multipart-0.0.5.tar.gz (32 kB)\r\n",
      "  Preparing metadata (setup.py) ... \u001b[?25l-\b \bdone\r\n",
      "\u001b[?25hRequirement already satisfied: pandas in /opt/conda/lib/python3.7/site-packages (from gradio) (1.3.5)\r\n",
      "Requirement already satisfied: jinja2 in /opt/conda/lib/python3.7/site-packages (from gradio) (3.1.2)\r\n",
      "Requirement already satisfied: pydub in /opt/conda/lib/python3.7/site-packages (from gradio) (0.25.1)\r\n",
      "Requirement already satisfied: matplotlib in /opt/conda/lib/python3.7/site-packages (from gradio) (3.5.3)\r\n",
      "Collecting pycryptodome\r\n",
      "  Downloading pycryptodome-3.15.0-cp35-abi3-manylinux2010_x86_64.whl (2.3 MB)\r\n",
      "\u001b[2K     \u001b[90m━━━━━━━━━━━━━━━━━━━━━━━━━━━━━━━━━━━━━━━━\u001b[0m \u001b[32m2.3/2.3 MB\u001b[0m \u001b[31m59.2 MB/s\u001b[0m eta \u001b[36m0:00:00\u001b[0m\r\n",
      "\u001b[?25hRequirement already satisfied: aiohttp in /opt/conda/lib/python3.7/site-packages (from gradio) (3.8.1)\r\n",
      "Requirement already satisfied: pillow in /opt/conda/lib/python3.7/site-packages (from gradio) (9.1.1)\r\n",
      "Requirement already satisfied: websockets>=10.0 in /opt/conda/lib/python3.7/site-packages (from gradio) (10.3)\r\n",
      "Requirement already satisfied: orjson in /opt/conda/lib/python3.7/site-packages (from gradio) (3.7.5)\r\n",
      "Requirement already satisfied: pyyaml in /opt/conda/lib/python3.7/site-packages (from gradio) (6.0)\r\n",
      "Requirement already satisfied: requests in /opt/conda/lib/python3.7/site-packages (from gradio) (2.28.1)\r\n",
      "Requirement already satisfied: fsspec in /opt/conda/lib/python3.7/site-packages (from gradio) (2022.8.2)\r\n",
      "Requirement already satisfied: pydantic in /opt/conda/lib/python3.7/site-packages (from gradio) (1.8.2)\r\n",
      "Requirement already satisfied: markdown-it-py[linkify,plugins] in /opt/conda/lib/python3.7/site-packages (from gradio) (2.1.0)\r\n",
      "Collecting h11<0.13,>=0.11\r\n",
      "  Downloading h11-0.12.0-py3-none-any.whl (54 kB)\r\n",
      "\u001b[2K     \u001b[90m━━━━━━━━━━━━━━━━━━━━━━━━━━━━━━━━━━━━━━━━\u001b[0m \u001b[32m54.9/54.9 kB\u001b[0m \u001b[31m4.0 MB/s\u001b[0m eta \u001b[36m0:00:00\u001b[0m\r\n",
      "\u001b[?25hCollecting paramiko\r\n",
      "  Downloading paramiko-2.12.0-py2.py3-none-any.whl (213 kB)\r\n",
      "\u001b[2K     \u001b[90m━━━━━━━━━━━━━━━━━━━━━━━━━━━━━━━━━━━━━━\u001b[0m \u001b[32m213.1/213.1 kB\u001b[0m \u001b[31m16.7 MB/s\u001b[0m eta \u001b[36m0:00:00\u001b[0m\r\n",
      "\u001b[?25hRequirement already satisfied: fastapi in /opt/conda/lib/python3.7/site-packages (from gradio) (0.85.1)\r\n",
      "Requirement already satisfied: asynctest==0.13.0 in /opt/conda/lib/python3.7/site-packages (from aiohttp->gradio) (0.13.0)\r\n",
      "Requirement already satisfied: yarl<2.0,>=1.0 in /opt/conda/lib/python3.7/site-packages (from aiohttp->gradio) (1.7.2)\r\n",
      "Requirement already satisfied: attrs>=17.3.0 in /opt/conda/lib/python3.7/site-packages (from aiohttp->gradio) (21.4.0)\r\n",
      "Requirement already satisfied: typing-extensions>=3.7.4 in /opt/conda/lib/python3.7/site-packages (from aiohttp->gradio) (4.4.0)\r\n",
      "Requirement already satisfied: charset-normalizer<3.0,>=2.0 in /opt/conda/lib/python3.7/site-packages (from aiohttp->gradio) (2.1.0)\r\n",
      "Requirement already satisfied: multidict<7.0,>=4.5 in /opt/conda/lib/python3.7/site-packages (from aiohttp->gradio) (6.0.2)\r\n",
      "Requirement already satisfied: aiosignal>=1.1.2 in /opt/conda/lib/python3.7/site-packages (from aiohttp->gradio) (1.2.0)\r\n",
      "Requirement already satisfied: frozenlist>=1.1.1 in /opt/conda/lib/python3.7/site-packages (from aiohttp->gradio) (1.3.0)\r\n",
      "Requirement already satisfied: async-timeout<5.0,>=4.0.0a3 in /opt/conda/lib/python3.7/site-packages (from aiohttp->gradio) (4.0.2)\r\n",
      "Requirement already satisfied: starlette==0.20.4 in /opt/conda/lib/python3.7/site-packages (from fastapi->gradio) (0.20.4)\r\n",
      "Requirement already satisfied: anyio<5,>=3.4.0 in /opt/conda/lib/python3.7/site-packages (from starlette==0.20.4->fastapi->gradio) (3.6.1)\r\n",
      "Collecting rfc3986[idna2008]<2,>=1.3\r\n",
      "  Downloading rfc3986-1.5.0-py2.py3-none-any.whl (31 kB)\r\n",
      "Requirement already satisfied: sniffio in /opt/conda/lib/python3.7/site-packages (from httpx->gradio) (1.2.0)\r\n",
      "Collecting httpcore<0.16.0,>=0.15.0\r\n",
      "  Downloading httpcore-0.15.0-py3-none-any.whl (68 kB)\r\n",
      "\u001b[2K     \u001b[90m━━━━━━━━━━━━━━━━━━━━━━━━━━━━━━━━━━━━━━━━\u001b[0m \u001b[32m68.4/68.4 kB\u001b[0m \u001b[31m5.7 MB/s\u001b[0m eta \u001b[36m0:00:00\u001b[0m\r\n",
      "\u001b[?25hRequirement already satisfied: certifi in /opt/conda/lib/python3.7/site-packages (from httpx->gradio) (2022.9.24)\r\n",
      "Requirement already satisfied: MarkupSafe>=2.0 in /opt/conda/lib/python3.7/site-packages (from jinja2->gradio) (2.1.1)\r\n",
      "Requirement already satisfied: mdurl~=0.1 in /opt/conda/lib/python3.7/site-packages (from markdown-it-py[linkify,plugins]->gradio) (0.1.0)\r\n",
      "Requirement already satisfied: mdit-py-plugins in /opt/conda/lib/python3.7/site-packages (from markdown-it-py[linkify,plugins]->gradio) (0.3.0)\r\n",
      "Collecting linkify-it-py~=1.0\r\n",
      "  Downloading linkify_it_py-1.0.3-py3-none-any.whl (19 kB)\r\n",
      "Requirement already satisfied: python-dateutil>=2.7 in /opt/conda/lib/python3.7/site-packages (from matplotlib->gradio) (2.8.2)\r\n",
      "Requirement already satisfied: kiwisolver>=1.0.1 in /opt/conda/lib/python3.7/site-packages (from matplotlib->gradio) (1.4.3)\r\n",
      "Requirement already satisfied: packaging>=20.0 in /opt/conda/lib/python3.7/site-packages (from matplotlib->gradio) (21.3)\r\n",
      "Requirement already satisfied: cycler>=0.10 in /opt/conda/lib/python3.7/site-packages (from matplotlib->gradio) (0.11.0)\r\n",
      "Requirement already satisfied: pyparsing>=2.2.1 in /opt/conda/lib/python3.7/site-packages (from matplotlib->gradio) (3.0.9)\r\n",
      "Requirement already satisfied: fonttools>=4.22.0 in /opt/conda/lib/python3.7/site-packages (from matplotlib->gradio) (4.33.3)\r\n",
      "Requirement already satisfied: pytz>=2017.3 in /opt/conda/lib/python3.7/site-packages (from pandas->gradio) (2022.1)\r\n",
      "Collecting pynacl>=1.0.1\r\n",
      "  Downloading PyNaCl-1.5.0-cp36-abi3-manylinux_2_17_x86_64.manylinux2014_x86_64.manylinux_2_24_x86_64.whl (856 kB)\r\n",
      "\u001b[2K     \u001b[90m━━━━━━━━━━━━━━━━━━━━━━━━━━━━━━━━━━━━━━\u001b[0m \u001b[32m856.7/856.7 kB\u001b[0m \u001b[31m45.7 MB/s\u001b[0m eta \u001b[36m0:00:00\u001b[0m\r\n",
      "\u001b[?25hRequirement already satisfied: cryptography>=2.5 in /opt/conda/lib/python3.7/site-packages (from paramiko->gradio) (37.0.2)\r\n",
      "Collecting bcrypt>=3.1.3\r\n",
      "  Downloading bcrypt-4.0.1-cp36-abi3-manylinux_2_28_x86_64.whl (593 kB)\r\n",
      "\u001b[2K     \u001b[90m━━━━━━━━━━━━━━━━━━━━━━━━━━━━━━━━━━━━━━\u001b[0m \u001b[32m593.7/593.7 kB\u001b[0m \u001b[31m34.2 MB/s\u001b[0m eta \u001b[36m0:00:00\u001b[0m\r\n",
      "\u001b[?25hRequirement already satisfied: six in /opt/conda/lib/python3.7/site-packages (from paramiko->gradio) (1.15.0)\r\n",
      "Requirement already satisfied: idna<4,>=2.5 in /opt/conda/lib/python3.7/site-packages (from requests->gradio) (3.3)\r\n",
      "Requirement already satisfied: urllib3<1.27,>=1.21.1 in /opt/conda/lib/python3.7/site-packages (from requests->gradio) (1.26.12)\r\n",
      "Requirement already satisfied: click>=7.0 in /opt/conda/lib/python3.7/site-packages (from uvicorn->gradio) (8.0.4)\r\n",
      "Requirement already satisfied: importlib-metadata in /opt/conda/lib/python3.7/site-packages (from click>=7.0->uvicorn->gradio) (4.13.0)\r\n",
      "Requirement already satisfied: cffi>=1.12 in /opt/conda/lib/python3.7/site-packages (from cryptography>=2.5->paramiko->gradio) (1.15.0)\r\n",
      "Collecting uc-micro-py\r\n",
      "  Downloading uc_micro_py-1.0.1-py3-none-any.whl (6.2 kB)\r\n",
      "Requirement already satisfied: pycparser in /opt/conda/lib/python3.7/site-packages (from cffi>=1.12->cryptography>=2.5->paramiko->gradio) (2.21)\r\n",
      "Requirement already satisfied: zipp>=0.5 in /opt/conda/lib/python3.7/site-packages (from importlib-metadata->click>=7.0->uvicorn->gradio) (3.8.0)\r\n",
      "Building wheels for collected packages: ffmpy, python-multipart\r\n",
      "  Building wheel for ffmpy (setup.py) ... \u001b[?25l-\b \b\\\b \bdone\r\n",
      "\u001b[?25h  Created wheel for ffmpy: filename=ffmpy-0.3.0-py3-none-any.whl size=4712 sha256=164c0f780427b8ea130fa60bf9322854dfc519322f31830f3b4cdf715dbbed5c\r\n",
      "  Stored in directory: /root/.cache/pip/wheels/13/e4/6c/e8059816e86796a597c6e6b0d4c880630f51a1fcfa0befd5e6\r\n",
      "  Building wheel for python-multipart (setup.py) ... \u001b[?25l-\b \b\\\b \bdone\r\n",
      "\u001b[?25h  Created wheel for python-multipart: filename=python_multipart-0.0.5-py3-none-any.whl size=31678 sha256=5d96d8b8e80fa9654e3ffa22aa7bdc4307906dbeabda92655bab581d91f907e2\r\n",
      "  Stored in directory: /root/.cache/pip/wheels/2c/41/7c/bfd1c180534ffdcc0972f78c5758f89881602175d48a8bcd2c\r\n",
      "Successfully built ffmpy python-multipart\r\n",
      "Installing collected packages: rfc3986, ffmpy, uc-micro-py, python-multipart, pycryptodome, h11, bcrypt, pynacl, linkify-it-py, httpcore, paramiko, httpx, gradio\r\n",
      "  Attempting uninstall: h11\r\n",
      "    Found existing installation: h11 0.14.0\r\n",
      "    Uninstalling h11-0.14.0:\r\n",
      "      Successfully uninstalled h11-0.14.0\r\n",
      "Successfully installed bcrypt-4.0.1 ffmpy-0.3.0 gradio-3.9.1 h11-0.12.0 httpcore-0.15.0 httpx-0.23.0 linkify-it-py-1.0.3 paramiko-2.12.0 pycryptodome-3.15.0 pynacl-1.5.0 python-multipart-0.0.5 rfc3986-1.5.0 uc-micro-py-1.0.1\r\n",
      "\u001b[33mWARNING: Running pip as the 'root' user can result in broken permissions and conflicting behaviour with the system package manager. It is recommended to use a virtual environment instead: https://pip.pypa.io/warnings/venv\u001b[0m\u001b[33m\r\n",
      "\u001b[0mNote: you may need to restart the kernel to use updated packages.\n"
     ]
    }
   ],
   "source": [
    "pip install gradio"
   ]
  },
  {
   "cell_type": "code",
   "execution_count": 37,
   "id": "14eef073",
   "metadata": {
    "execution": {
     "iopub.execute_input": "2022-11-14T23:03:19.183447Z",
     "iopub.status.busy": "2022-11-14T23:03:19.183013Z",
     "iopub.status.idle": "2022-11-14T23:03:19.190660Z",
     "shell.execute_reply": "2022-11-14T23:03:19.189443Z"
    },
    "papermill": {
     "duration": 0.047266,
     "end_time": "2022-11-14T23:03:19.193143",
     "exception": false,
     "start_time": "2022-11-14T23:03:19.145877",
     "status": "completed"
    },
    "tags": []
   },
   "outputs": [
    {
     "data": {
      "text/plain": [
       "'\\ndef dtree(premises_type,occurrenceyear,month_id,day_id,occurrencedayofyear,occurrencehour,Neighbourhood,Latitude,Longitude):\\n#turning the arguments into a numpy array  \\n\\n    x = np.array([premises_type,occurrenceyear,month_id,day_id,occurrencedayofyear,occurrencehour,Neighbourhood,Latitude,Longitude])\\n    #x = MultiColumnLabelEncoder(columns = [\\'premises_type\\',\\'offence\\', \\'Neighbourhood\\', \"occurrencemonth\"]).fit_transform(x)\\n    prediction = treeclf.predict(x.reshape(1, -1))\\n\\n    return prediction\\n'"
      ]
     },
     "execution_count": 37,
     "metadata": {},
     "output_type": "execute_result"
    }
   ],
   "source": [
    "'''\n",
    "def dtree(premises_type,occurrenceyear,month_id,day_id,occurrencedayofyear,occurrencehour,Neighbourhood,Latitude,Longitude):\n",
    "#turning the arguments into a numpy array  \n",
    "\n",
    "    x = np.array([premises_type,occurrenceyear,month_id,day_id,occurrencedayofyear,occurrencehour,Neighbourhood,Latitude,Longitude])\n",
    "    #x = MultiColumnLabelEncoder(columns = ['premises_type','offence', 'Neighbourhood', \"occurrencemonth\"]).fit_transform(x)\n",
    "    prediction = treeclf.predict(x.reshape(1, -1))\n",
    "\n",
    "    return prediction\n",
    "'''"
   ]
  },
  {
   "cell_type": "code",
   "execution_count": 38,
   "id": "6573bf0f",
   "metadata": {
    "execution": {
     "iopub.execute_input": "2022-11-14T23:03:19.265196Z",
     "iopub.status.busy": "2022-11-14T23:03:19.264792Z",
     "iopub.status.idle": "2022-11-14T23:03:19.284923Z",
     "shell.execute_reply": "2022-11-14T23:03:19.283693Z"
    },
    "papermill": {
     "duration": 0.059028,
     "end_time": "2022-11-14T23:03:19.287314",
     "exception": false,
     "start_time": "2022-11-14T23:03:19.228286",
     "status": "completed"
    },
    "tags": []
   },
   "outputs": [
    {
     "data": {
      "text/html": [
       "<div>\n",
       "<style scoped>\n",
       "    .dataframe tbody tr th:only-of-type {\n",
       "        vertical-align: middle;\n",
       "    }\n",
       "\n",
       "    .dataframe tbody tr th {\n",
       "        vertical-align: top;\n",
       "    }\n",
       "\n",
       "    .dataframe thead th {\n",
       "        text-align: right;\n",
       "    }\n",
       "</style>\n",
       "<table border=\"1\" class=\"dataframe\">\n",
       "  <thead>\n",
       "    <tr style=\"text-align: right;\">\n",
       "      <th></th>\n",
       "      <th>premises_type</th>\n",
       "      <th>occurrenceyear</th>\n",
       "      <th>month_id</th>\n",
       "      <th>day_id</th>\n",
       "      <th>occurrencedayofyear</th>\n",
       "      <th>occurrencehour</th>\n",
       "      <th>Neighbourhood</th>\n",
       "      <th>Latitude</th>\n",
       "      <th>Longitude</th>\n",
       "    </tr>\n",
       "  </thead>\n",
       "  <tbody>\n",
       "    <tr>\n",
       "      <th>53043</th>\n",
       "      <td>0</td>\n",
       "      <td>2021</td>\n",
       "      <td>10</td>\n",
       "      <td>4</td>\n",
       "      <td>294</td>\n",
       "      <td>2</td>\n",
       "      <td>123</td>\n",
       "      <td>43.641656</td>\n",
       "      <td>-79.381176</td>\n",
       "    </tr>\n",
       "    <tr>\n",
       "      <th>49042</th>\n",
       "      <td>1</td>\n",
       "      <td>2021</td>\n",
       "      <td>12</td>\n",
       "      <td>6</td>\n",
       "      <td>359</td>\n",
       "      <td>21</td>\n",
       "      <td>45</td>\n",
       "      <td>43.676703</td>\n",
       "      <td>-79.321490</td>\n",
       "    </tr>\n",
       "    <tr>\n",
       "      <th>46036</th>\n",
       "      <td>3</td>\n",
       "      <td>2021</td>\n",
       "      <td>7</td>\n",
       "      <td>7</td>\n",
       "      <td>192</td>\n",
       "      <td>20</td>\n",
       "      <td>130</td>\n",
       "      <td>43.712973</td>\n",
       "      <td>-79.455704</td>\n",
       "    </tr>\n",
       "    <tr>\n",
       "      <th>3030</th>\n",
       "      <td>3</td>\n",
       "      <td>2021</td>\n",
       "      <td>2</td>\n",
       "      <td>6</td>\n",
       "      <td>37</td>\n",
       "      <td>18</td>\n",
       "      <td>37</td>\n",
       "      <td>43.741566</td>\n",
       "      <td>-79.261023</td>\n",
       "    </tr>\n",
       "    <tr>\n",
       "      <th>90157</th>\n",
       "      <td>1</td>\n",
       "      <td>2021</td>\n",
       "      <td>11</td>\n",
       "      <td>5</td>\n",
       "      <td>332</td>\n",
       "      <td>7</td>\n",
       "      <td>55</td>\n",
       "      <td>43.714838</td>\n",
       "      <td>-79.559428</td>\n",
       "    </tr>\n",
       "    <tr>\n",
       "      <th>...</th>\n",
       "      <td>...</td>\n",
       "      <td>...</td>\n",
       "      <td>...</td>\n",
       "      <td>...</td>\n",
       "      <td>...</td>\n",
       "      <td>...</td>\n",
       "      <td>...</td>\n",
       "      <td>...</td>\n",
       "      <td>...</td>\n",
       "    </tr>\n",
       "    <tr>\n",
       "      <th>37882</th>\n",
       "      <td>2</td>\n",
       "      <td>2021</td>\n",
       "      <td>3</td>\n",
       "      <td>3</td>\n",
       "      <td>71</td>\n",
       "      <td>0</td>\n",
       "      <td>125</td>\n",
       "      <td>43.724680</td>\n",
       "      <td>-79.612635</td>\n",
       "    </tr>\n",
       "    <tr>\n",
       "      <th>55930</th>\n",
       "      <td>1</td>\n",
       "      <td>2021</td>\n",
       "      <td>7</td>\n",
       "      <td>3</td>\n",
       "      <td>188</td>\n",
       "      <td>0</td>\n",
       "      <td>79</td>\n",
       "      <td>43.650464</td>\n",
       "      <td>-79.371874</td>\n",
       "    </tr>\n",
       "    <tr>\n",
       "      <th>25329</th>\n",
       "      <td>0</td>\n",
       "      <td>2021</td>\n",
       "      <td>10</td>\n",
       "      <td>7</td>\n",
       "      <td>276</td>\n",
       "      <td>2</td>\n",
       "      <td>39</td>\n",
       "      <td>43.715951</td>\n",
       "      <td>-79.428965</td>\n",
       "    </tr>\n",
       "    <tr>\n",
       "      <th>11505</th>\n",
       "      <td>0</td>\n",
       "      <td>2021</td>\n",
       "      <td>5</td>\n",
       "      <td>4</td>\n",
       "      <td>140</td>\n",
       "      <td>0</td>\n",
       "      <td>18</td>\n",
       "      <td>43.699555</td>\n",
       "      <td>-79.502855</td>\n",
       "    </tr>\n",
       "    <tr>\n",
       "      <th>31490</th>\n",
       "      <td>2</td>\n",
       "      <td>2021</td>\n",
       "      <td>12</td>\n",
       "      <td>4</td>\n",
       "      <td>336</td>\n",
       "      <td>12</td>\n",
       "      <td>45</td>\n",
       "      <td>43.746667</td>\n",
       "      <td>-79.510796</td>\n",
       "    </tr>\n",
       "  </tbody>\n",
       "</table>\n",
       "<p>30808 rows × 9 columns</p>\n",
       "</div>"
      ],
      "text/plain": [
       "       premises_type  occurrenceyear  month_id  day_id  occurrencedayofyear  \\\n",
       "53043              0            2021        10       4                  294   \n",
       "49042              1            2021        12       6                  359   \n",
       "46036              3            2021         7       7                  192   \n",
       "3030               3            2021         2       6                   37   \n",
       "90157              1            2021        11       5                  332   \n",
       "...              ...             ...       ...     ...                  ...   \n",
       "37882              2            2021         3       3                   71   \n",
       "55930              1            2021         7       3                  188   \n",
       "25329              0            2021        10       7                  276   \n",
       "11505              0            2021         5       4                  140   \n",
       "31490              2            2021        12       4                  336   \n",
       "\n",
       "       occurrencehour  Neighbourhood   Latitude  Longitude  \n",
       "53043               2            123  43.641656 -79.381176  \n",
       "49042              21             45  43.676703 -79.321490  \n",
       "46036              20            130  43.712973 -79.455704  \n",
       "3030               18             37  43.741566 -79.261023  \n",
       "90157               7             55  43.714838 -79.559428  \n",
       "...               ...            ...        ...        ...  \n",
       "37882               0            125  43.724680 -79.612635  \n",
       "55930               0             79  43.650464 -79.371874  \n",
       "25329               2             39  43.715951 -79.428965  \n",
       "11505               0             18  43.699555 -79.502855  \n",
       "31490              12             45  43.746667 -79.510796  \n",
       "\n",
       "[30808 rows x 9 columns]"
      ]
     },
     "execution_count": 38,
     "metadata": {},
     "output_type": "execute_result"
    }
   ],
   "source": [
    "X_test"
   ]
  },
  {
   "cell_type": "code",
   "execution_count": 39,
   "id": "62816b8a",
   "metadata": {
    "execution": {
     "iopub.execute_input": "2022-11-14T23:03:19.359874Z",
     "iopub.status.busy": "2022-11-14T23:03:19.359459Z",
     "iopub.status.idle": "2022-11-14T23:03:19.365853Z",
     "shell.execute_reply": "2022-11-14T23:03:19.365098Z"
    },
    "papermill": {
     "duration": 0.045353,
     "end_time": "2022-11-14T23:03:19.368043",
     "exception": false,
     "start_time": "2022-11-14T23:03:19.322690",
     "status": "completed"
    },
    "tags": []
   },
   "outputs": [
    {
     "data": {
      "text/plain": [
       "'\\nimport gradio as gr\\noutputs = gr.outputs.Textbox()\\n#labels\\napp = gr.Interface(fn=dtree, inputs=[\\'text\\',\\'text\\',\\'text\\',\\'text\\',\\'text\\',\\'text\\',\\'text\\',\\'text\\',\\'text\\'], outputs=outputs,description=\"CRIME ANALYSIS: This is a decision tree model\")\\n'"
      ]
     },
     "execution_count": 39,
     "metadata": {},
     "output_type": "execute_result"
    }
   ],
   "source": [
    "'''\n",
    "import gradio as gr\n",
    "outputs = gr.outputs.Textbox()\n",
    "#labels\n",
    "app = gr.Interface(fn=dtree, inputs=['text','text','text','text','text','text','text','text','text'], outputs=outputs,description=\"CRIME ANALYSIS: This is a decision tree model\")\n",
    "'''"
   ]
  },
  {
   "cell_type": "code",
   "execution_count": 40,
   "id": "d4c904da",
   "metadata": {
    "execution": {
     "iopub.execute_input": "2022-11-14T23:03:19.440919Z",
     "iopub.status.busy": "2022-11-14T23:03:19.440457Z",
     "iopub.status.idle": "2022-11-14T23:03:19.445479Z",
     "shell.execute_reply": "2022-11-14T23:03:19.444341Z"
    },
    "papermill": {
     "duration": 0.04471,
     "end_time": "2022-11-14T23:03:19.448120",
     "exception": false,
     "start_time": "2022-11-14T23:03:19.403410",
     "status": "completed"
    },
    "tags": []
   },
   "outputs": [],
   "source": [
    "#import warnings\n",
    "#warnings.filterwarnings(\"ignore\")\n",
    "#app.launch(share=True)"
   ]
  },
  {
   "cell_type": "code",
   "execution_count": 41,
   "id": "76509723",
   "metadata": {
    "execution": {
     "iopub.execute_input": "2022-11-14T23:03:19.522549Z",
     "iopub.status.busy": "2022-11-14T23:03:19.521562Z",
     "iopub.status.idle": "2022-11-14T23:03:19.528391Z",
     "shell.execute_reply": "2022-11-14T23:03:19.527466Z"
    },
    "papermill": {
     "duration": 0.046697,
     "end_time": "2022-11-14T23:03:19.530642",
     "exception": false,
     "start_time": "2022-11-14T23:03:19.483945",
     "status": "completed"
    },
    "tags": []
   },
   "outputs": [
    {
     "data": {
      "text/plain": [
       "'\\ndef inference(premises_type,occurrenceyear,occurrencemonth,day_id,occurrencedayofyear,occurrencehour,Hood_ID,Neighbourhood,Latitude,Longitude):\\n    s = 0 if sex==\\'female\\' else 1\\n    df = pd.DataFrame([[age, s, ch, cardio]], \\n                      columns=[\\'Age\\', \\'Sex\\', \\'Cholestoral (in mg/dl)\\', \\n                               \\'Resting electrocardiographic results\\'])\\n    df = st.transform(df)\\n    pred = trainedmodel.predict_proba(df)[0]\\n    res = {\\'No Heart Desease\\': pred[0], \\'Has Heart Desease\\': pred[1]}\\n    return res\\n\\nsex = gr.inputs.Radio([\\'female\\', \\'male\\'], label=\"Sex\")\\nage = gr.inputs.Slider(minimum=1, maximum=100, default=22, label=\"Age\")\\nch = gr.inputs.Slider(minimum=120, maximum=560, default=200, label=\"Cholestoral (in mg/dl)\")\\ncardio = gr.inputs.Radio([0, 1, 2], label=\"Resting electrocardiographic results\")\\n\\ngr.Interface(inference, [age, sex, ch, cardio], \"label\", live=True).launch(share=True)\\n'"
      ]
     },
     "execution_count": 41,
     "metadata": {},
     "output_type": "execute_result"
    }
   ],
   "source": [
    "'''\n",
    "def inference(premises_type,occurrenceyear,occurrencemonth,day_id,occurrencedayofyear,occurrencehour,Hood_ID,Neighbourhood,Latitude,Longitude):\n",
    "    s = 0 if sex=='female' else 1\n",
    "    df = pd.DataFrame([[age, s, ch, cardio]], \n",
    "                      columns=['Age', 'Sex', 'Cholestoral (in mg/dl)', \n",
    "                               'Resting electrocardiographic results'])\n",
    "    df = st.transform(df)\n",
    "    pred = trainedmodel.predict_proba(df)[0]\n",
    "    res = {'No Heart Desease': pred[0], 'Has Heart Desease': pred[1]}\n",
    "    return res\n",
    "\n",
    "sex = gr.inputs.Radio(['female', 'male'], label=\"Sex\")\n",
    "age = gr.inputs.Slider(minimum=1, maximum=100, default=22, label=\"Age\")\n",
    "ch = gr.inputs.Slider(minimum=120, maximum=560, default=200, label=\"Cholestoral (in mg/dl)\")\n",
    "cardio = gr.inputs.Radio([0, 1, 2], label=\"Resting electrocardiographic results\")\n",
    "\n",
    "gr.Interface(inference, [age, sex, ch, cardio], \"label\", live=True).launch(share=True)\n",
    "'''"
   ]
  },
  {
   "cell_type": "markdown",
   "id": "810497ba",
   "metadata": {
    "papermill": {
     "duration": 0.035436,
     "end_time": "2022-11-14T23:03:19.601770",
     "exception": false,
     "start_time": "2022-11-14T23:03:19.566334",
     "status": "completed"
    },
    "tags": []
   },
   "source": [
    "**Gaussian Naive Bayes**"
   ]
  },
  {
   "cell_type": "code",
   "execution_count": 42,
   "id": "377085f1",
   "metadata": {
    "execution": {
     "iopub.execute_input": "2022-11-14T23:03:19.675996Z",
     "iopub.status.busy": "2022-11-14T23:03:19.675530Z",
     "iopub.status.idle": "2022-11-14T23:03:19.684618Z",
     "shell.execute_reply": "2022-11-14T23:03:19.683722Z"
    },
    "papermill": {
     "duration": 0.048745,
     "end_time": "2022-11-14T23:03:19.687046",
     "exception": false,
     "start_time": "2022-11-14T23:03:19.638301",
     "status": "completed"
    },
    "tags": []
   },
   "outputs": [],
   "source": [
    "from sklearn.pipeline import make_pipeline\n",
    "from sklearn.naive_bayes import GaussianNB\n",
    "from sklearn.decomposition import PCA\n",
    "from sklearn.preprocessing import StandardScaler\n",
    "import matplotlib.pyplot as plt"
   ]
  },
  {
   "cell_type": "code",
   "execution_count": 43,
   "id": "e13a3b80",
   "metadata": {
    "execution": {
     "iopub.execute_input": "2022-11-14T23:03:19.762041Z",
     "iopub.status.busy": "2022-11-14T23:03:19.760755Z",
     "iopub.status.idle": "2022-11-14T23:03:20.163644Z",
     "shell.execute_reply": "2022-11-14T23:03:20.161997Z"
    },
    "papermill": {
     "duration": 0.445058,
     "end_time": "2022-11-14T23:03:20.168020",
     "exception": false,
     "start_time": "2022-11-14T23:03:19.722962",
     "status": "completed"
    },
    "tags": []
   },
   "outputs": [],
   "source": [
    "# Fit to data and predict using pipelined scaling, GNB and PCA.\n",
    "std_clf = make_pipeline(StandardScaler(), PCA(n_components=3), GaussianNB())\n",
    "std_clf.fit(X_train, y_train)\n",
    "pred_test_std = std_clf.predict(X_test)"
   ]
  },
  {
   "cell_type": "code",
   "execution_count": 44,
   "id": "45f26a64",
   "metadata": {
    "execution": {
     "iopub.execute_input": "2022-11-14T23:03:20.304188Z",
     "iopub.status.busy": "2022-11-14T23:03:20.303725Z",
     "iopub.status.idle": "2022-11-14T23:03:20.314607Z",
     "shell.execute_reply": "2022-11-14T23:03:20.312582Z"
    },
    "papermill": {
     "duration": 0.054619,
     "end_time": "2022-11-14T23:03:20.318216",
     "exception": false,
     "start_time": "2022-11-14T23:03:20.263597",
     "status": "completed"
    },
    "tags": []
   },
   "outputs": [
    {
     "name": "stdout",
     "output_type": "stream",
     "text": [
      "\n",
      "Prediction accuracy for the standardized test dataset with PCA\n",
      "30.66%\n",
      "\n"
     ]
    }
   ],
   "source": [
    "# Show prediction accuracies in scaled and unscaled data.\n",
    "print('\\nPrediction accuracy for the standardized test dataset with PCA')\n",
    "print('{:.2%}\\n'.format(metrics.accuracy_score(y_test, pred_test_std)))"
   ]
  },
  {
   "cell_type": "code",
   "execution_count": 45,
   "id": "70073954",
   "metadata": {
    "execution": {
     "iopub.execute_input": "2022-11-14T23:03:20.393617Z",
     "iopub.status.busy": "2022-11-14T23:03:20.392223Z",
     "iopub.status.idle": "2022-11-14T23:03:20.461322Z",
     "shell.execute_reply": "2022-11-14T23:03:20.459549Z"
    },
    "papermill": {
     "duration": 0.111505,
     "end_time": "2022-11-14T23:03:20.466225",
     "exception": false,
     "start_time": "2022-11-14T23:03:20.354720",
     "status": "completed"
    },
    "tags": []
   },
   "outputs": [
    {
     "data": {
      "text/plain": [
       "1.5559157135999546"
      ]
     },
     "execution_count": 45,
     "metadata": {},
     "output_type": "execute_result"
    }
   ],
   "source": [
    "pred = std_clf.predict_proba(X_test)\n",
    "eval = metrics.log_loss(y_test,pred) \n",
    "eval"
   ]
  },
  {
   "cell_type": "code",
   "execution_count": 46,
   "id": "2d7d4ffa",
   "metadata": {
    "execution": {
     "iopub.execute_input": "2022-11-14T23:03:20.577374Z",
     "iopub.status.busy": "2022-11-14T23:03:20.576947Z",
     "iopub.status.idle": "2022-11-14T23:03:20.582312Z",
     "shell.execute_reply": "2022-11-14T23:03:20.580781Z"
    },
    "papermill": {
     "duration": 0.045826,
     "end_time": "2022-11-14T23:03:20.584853",
     "exception": false,
     "start_time": "2022-11-14T23:03:20.539027",
     "status": "completed"
    },
    "tags": []
   },
   "outputs": [],
   "source": [
    "# Extract PCA from pipeline\n",
    "pca_std = std_clf.named_steps['pca']"
   ]
  },
  {
   "cell_type": "code",
   "execution_count": 47,
   "id": "d8ccca3d",
   "metadata": {
    "execution": {
     "iopub.execute_input": "2022-11-14T23:03:20.679639Z",
     "iopub.status.busy": "2022-11-14T23:03:20.678723Z",
     "iopub.status.idle": "2022-11-14T23:03:20.686479Z",
     "shell.execute_reply": "2022-11-14T23:03:20.684803Z"
    },
    "papermill": {
     "duration": 0.062955,
     "end_time": "2022-11-14T23:03:20.689069",
     "exception": false,
     "start_time": "2022-11-14T23:03:20.626114",
     "status": "completed"
    },
    "tags": []
   },
   "outputs": [
    {
     "name": "stdout",
     "output_type": "stream",
     "text": [
      "\n",
      "PC 1 with scaling:\n",
      " [-8.30204672e-02 -1.66533454e-16 -5.65427330e-01  1.11694841e-02\n",
      " -5.62984553e-01 -3.55446016e-02  4.25892673e-02 -4.20360487e-01\n",
      "  4.20170167e-01]\n"
     ]
    }
   ],
   "source": [
    "# Show first principal components\n",
    "print('\\nPC 1 with scaling:\\n', pca_std.components_[0])"
   ]
  },
  {
   "cell_type": "code",
   "execution_count": 48,
   "id": "b013edcb",
   "metadata": {
    "execution": {
     "iopub.execute_input": "2022-11-14T23:03:20.776378Z",
     "iopub.status.busy": "2022-11-14T23:03:20.775451Z",
     "iopub.status.idle": "2022-11-14T23:03:20.854063Z",
     "shell.execute_reply": "2022-11-14T23:03:20.852658Z"
    },
    "papermill": {
     "duration": 0.130051,
     "end_time": "2022-11-14T23:03:20.857309",
     "exception": false,
     "start_time": "2022-11-14T23:03:20.727258",
     "status": "completed"
    },
    "tags": []
   },
   "outputs": [
    {
     "name": "stdout",
     "output_type": "stream",
     "text": [
      "Accuracy of Gaussian Naive Bayes :  0.30660867307192935\n",
      "[[   5 3018 2313  169  556]\n",
      " [   1 4289 1427  259  356]\n",
      " [   0 1292 4228  220  432]\n",
      " [   1 3635 1642  293  648]\n",
      " [   0 2205 2982  206  631]]\n",
      "              precision    recall  f1-score   support\n",
      "\n",
      "           0       0.71      0.00      0.00      6061\n",
      "           1       0.30      0.68      0.41      6332\n",
      "           2       0.34      0.69      0.45      6172\n",
      "           3       0.26      0.05      0.08      6219\n",
      "           4       0.24      0.10      0.15      6024\n",
      "\n",
      "    accuracy                           0.31     30808\n",
      "   macro avg       0.37      0.30      0.22     30808\n",
      "weighted avg       0.37      0.31      0.22     30808\n",
      "\n"
     ]
    }
   ],
   "source": [
    "print(\"Accuracy of Gaussian Naive Bayes : \",accuracy_score(y_test, pred_test_std))\n",
    "print(confusion_matrix(y_test, pred_test_std)) \n",
    "print(classification_report(y_test,pred_test_std))"
   ]
  },
  {
   "cell_type": "markdown",
   "id": "44fc30f5",
   "metadata": {
    "papermill": {
     "duration": 0.040804,
     "end_time": "2022-11-14T23:03:20.940801",
     "exception": false,
     "start_time": "2022-11-14T23:03:20.899997",
     "status": "completed"
    },
    "tags": []
   },
   "source": [
    "**Logistic Regression**"
   ]
  },
  {
   "cell_type": "code",
   "execution_count": 49,
   "id": "9b796fbc",
   "metadata": {
    "execution": {
     "iopub.execute_input": "2022-11-14T23:03:21.028179Z",
     "iopub.status.busy": "2022-11-14T23:03:21.027206Z",
     "iopub.status.idle": "2022-11-14T23:03:26.802727Z",
     "shell.execute_reply": "2022-11-14T23:03:26.801341Z"
    },
    "papermill": {
     "duration": 5.825698,
     "end_time": "2022-11-14T23:03:26.808314",
     "exception": false,
     "start_time": "2022-11-14T23:03:20.982616",
     "status": "completed"
    },
    "tags": []
   },
   "outputs": [
    {
     "name": "stderr",
     "output_type": "stream",
     "text": [
      "/opt/conda/lib/python3.7/site-packages/sklearn/linear_model/_logistic.py:818: ConvergenceWarning: lbfgs failed to converge (status=1):\n",
      "STOP: TOTAL NO. of ITERATIONS REACHED LIMIT.\n",
      "\n",
      "Increase the number of iterations (max_iter) or scale the data as shown in:\n",
      "    https://scikit-learn.org/stable/modules/preprocessing.html\n",
      "Please also refer to the documentation for alternative solver options:\n",
      "    https://scikit-learn.org/stable/modules/linear_model.html#logistic-regression\n",
      "  extra_warning_msg=_LOGISTIC_SOLVER_CONVERGENCE_MSG,\n"
     ]
    },
    {
     "data": {
      "text/plain": [
       "LogisticRegression()"
      ]
     },
     "execution_count": 49,
     "metadata": {},
     "output_type": "execute_result"
    }
   ],
   "source": [
    "from sklearn.linear_model import LogisticRegression\n",
    "logreg = LogisticRegression(class_weight=None)\n",
    "logreg.fit(X_train, y_train)"
   ]
  },
  {
   "cell_type": "code",
   "execution_count": 50,
   "id": "c00c3d71",
   "metadata": {
    "execution": {
     "iopub.execute_input": "2022-11-14T23:03:26.946435Z",
     "iopub.status.busy": "2022-11-14T23:03:26.946015Z",
     "iopub.status.idle": "2022-11-14T23:03:26.958790Z",
     "shell.execute_reply": "2022-11-14T23:03:26.957064Z"
    },
    "papermill": {
     "duration": 0.061487,
     "end_time": "2022-11-14T23:03:26.963414",
     "exception": false,
     "start_time": "2022-11-14T23:03:26.901927",
     "status": "completed"
    },
    "tags": []
   },
   "outputs": [],
   "source": [
    "#y_train_pred = logreg.predict(X_train)\n",
    "y_test_pred = logreg.predict(X_test)"
   ]
  },
  {
   "cell_type": "code",
   "execution_count": 51,
   "id": "5a89118a",
   "metadata": {
    "execution": {
     "iopub.execute_input": "2022-11-14T23:03:27.107965Z",
     "iopub.status.busy": "2022-11-14T23:03:27.107541Z",
     "iopub.status.idle": "2022-11-14T23:03:27.187616Z",
     "shell.execute_reply": "2022-11-14T23:03:27.186259Z"
    },
    "papermill": {
     "duration": 0.132239,
     "end_time": "2022-11-14T23:03:27.191527",
     "exception": false,
     "start_time": "2022-11-14T23:03:27.059288",
     "status": "completed"
    },
    "tags": []
   },
   "outputs": [
    {
     "name": "stdout",
     "output_type": "stream",
     "text": [
      "Accuracy of Logistic Regression :  0.28846403531550247\n",
      "[[ 758 1413 1568 1379  943]\n",
      " [ 482 2004 1441 1765  640]\n",
      " [ 695  156 3016 1158 1147]\n",
      " [ 675 1665 1207 1747  925]\n",
      " [ 653  672 2049 1288 1362]]\n",
      "              precision    recall  f1-score   support\n",
      "\n",
      "           0       0.23      0.13      0.16      6061\n",
      "           1       0.34      0.32      0.33      6332\n",
      "           2       0.32      0.49      0.39      6172\n",
      "           3       0.24      0.28      0.26      6219\n",
      "           4       0.27      0.23      0.25      6024\n",
      "\n",
      "    accuracy                           0.29     30808\n",
      "   macro avg       0.28      0.29      0.28     30808\n",
      "weighted avg       0.28      0.29      0.28     30808\n",
      "\n"
     ]
    }
   ],
   "source": [
    "print(\"Accuracy of Logistic Regression : \",accuracy_score(y_test, y_test_pred))\n",
    "print(confusion_matrix(y_test, y_test_pred)) \n",
    "#MCI_list=df[\"mci_category\"].unique()\n",
    "print(classification_report(y_test,y_test_pred))"
   ]
  },
  {
   "cell_type": "markdown",
   "id": "49237695",
   "metadata": {
    "papermill": {
     "duration": 0.035819,
     "end_time": "2022-11-14T23:03:27.264048",
     "exception": false,
     "start_time": "2022-11-14T23:03:27.228229",
     "status": "completed"
    },
    "tags": []
   },
   "source": [
    "**K-Nearest Neighbor**"
   ]
  },
  {
   "cell_type": "code",
   "execution_count": 52,
   "id": "447e5f52",
   "metadata": {
    "execution": {
     "iopub.execute_input": "2022-11-14T23:03:27.338897Z",
     "iopub.status.busy": "2022-11-14T23:03:27.338510Z",
     "iopub.status.idle": "2022-11-14T23:03:27.456768Z",
     "shell.execute_reply": "2022-11-14T23:03:27.455665Z"
    },
    "papermill": {
     "duration": 0.159005,
     "end_time": "2022-11-14T23:03:27.459401",
     "exception": false,
     "start_time": "2022-11-14T23:03:27.300396",
     "status": "completed"
    },
    "tags": []
   },
   "outputs": [
    {
     "data": {
      "text/plain": [
       "KNeighborsClassifier(n_neighbors=300)"
      ]
     },
     "execution_count": 52,
     "metadata": {},
     "output_type": "execute_result"
    }
   ],
   "source": [
    "from sklearn.neighbors import KNeighborsClassifier\n",
    "knn = KNeighborsClassifier(n_neighbors=300)\n",
    "knn.fit(X_train, y_train)"
   ]
  },
  {
   "cell_type": "code",
   "execution_count": 53,
   "id": "c7417a25",
   "metadata": {
    "execution": {
     "iopub.execute_input": "2022-11-14T23:03:27.533999Z",
     "iopub.status.busy": "2022-11-14T23:03:27.533554Z",
     "iopub.status.idle": "2022-11-14T23:03:35.125541Z",
     "shell.execute_reply": "2022-11-14T23:03:35.124158Z"
    },
    "papermill": {
     "duration": 7.633235,
     "end_time": "2022-11-14T23:03:35.129114",
     "exception": false,
     "start_time": "2022-11-14T23:03:27.495879",
     "status": "completed"
    },
    "tags": []
   },
   "outputs": [],
   "source": [
    "knn_pred = knn.predict(X_test)"
   ]
  },
  {
   "cell_type": "code",
   "execution_count": 54,
   "id": "bb314838",
   "metadata": {
    "execution": {
     "iopub.execute_input": "2022-11-14T23:03:35.207687Z",
     "iopub.status.busy": "2022-11-14T23:03:35.206810Z",
     "iopub.status.idle": "2022-11-14T23:03:35.288791Z",
     "shell.execute_reply": "2022-11-14T23:03:35.287112Z"
    },
    "papermill": {
     "duration": 0.126885,
     "end_time": "2022-11-14T23:03:35.293205",
     "exception": false,
     "start_time": "2022-11-14T23:03:35.166320",
     "status": "completed"
    },
    "tags": []
   },
   "outputs": [
    {
     "name": "stdout",
     "output_type": "stream",
     "text": [
      "Accuracy of KNN :  0.3290703713321215\n",
      "[[ 803  924  999 1496 1839]\n",
      " [ 653 1491 1080 1474 1634]\n",
      " [ 537  631 2160 1024 1820]\n",
      " [ 721  895  769 2208 1626]\n",
      " [ 346  527  809  866 3476]]\n",
      "              precision    recall  f1-score   support\n",
      "\n",
      "           0       0.26      0.13      0.18      6061\n",
      "           1       0.33      0.24      0.28      6332\n",
      "           2       0.37      0.35      0.36      6172\n",
      "           3       0.31      0.36      0.33      6219\n",
      "           4       0.33      0.58      0.42      6024\n",
      "\n",
      "    accuracy                           0.33     30808\n",
      "   macro avg       0.32      0.33      0.31     30808\n",
      "weighted avg       0.32      0.33      0.31     30808\n",
      "\n"
     ]
    }
   ],
   "source": [
    "print(\"Accuracy of KNN : \",accuracy_score(y_test, knn_pred))\n",
    "print(confusion_matrix(y_test, knn_pred)) \n",
    "print(classification_report(y_test,knn_pred))"
   ]
  },
  {
   "cell_type": "markdown",
   "id": "075e98c7",
   "metadata": {
    "papermill": {
     "duration": 0.036519,
     "end_time": "2022-11-14T23:03:35.367777",
     "exception": false,
     "start_time": "2022-11-14T23:03:35.331258",
     "status": "completed"
    },
    "tags": []
   },
   "source": [
    "**Ensemble Methods**\n",
    "\n",
    "*Combining multiple learning algorithm together to achieve better performance over a single algorithm.* "
   ]
  },
  {
   "cell_type": "markdown",
   "id": "bd004107",
   "metadata": {
    "papermill": {
     "duration": 0.037124,
     "end_time": "2022-11-14T23:03:35.442557",
     "exception": false,
     "start_time": "2022-11-14T23:03:35.405433",
     "status": "completed"
    },
    "tags": []
   },
   "source": [
    "*Random forest*"
   ]
  },
  {
   "cell_type": "code",
   "execution_count": 55,
   "id": "487d0552",
   "metadata": {
    "execution": {
     "iopub.execute_input": "2022-11-14T23:03:35.521240Z",
     "iopub.status.busy": "2022-11-14T23:03:35.520482Z",
     "iopub.status.idle": "2022-11-14T23:03:35.525294Z",
     "shell.execute_reply": "2022-11-14T23:03:35.524333Z"
    },
    "papermill": {
     "duration": 0.047159,
     "end_time": "2022-11-14T23:03:35.527569",
     "exception": false,
     "start_time": "2022-11-14T23:03:35.480410",
     "status": "completed"
    },
    "tags": []
   },
   "outputs": [],
   "source": [
    "from sklearn.ensemble import RandomForestClassifier"
   ]
  },
  {
   "cell_type": "code",
   "execution_count": 56,
   "id": "263ffd6a",
   "metadata": {
    "execution": {
     "iopub.execute_input": "2022-11-14T23:03:35.604238Z",
     "iopub.status.busy": "2022-11-14T23:03:35.603501Z",
     "iopub.status.idle": "2022-11-14T23:03:42.506500Z",
     "shell.execute_reply": "2022-11-14T23:03:42.505652Z"
    },
    "papermill": {
     "duration": 6.944425,
     "end_time": "2022-11-14T23:03:42.508626",
     "exception": false,
     "start_time": "2022-11-14T23:03:35.564201",
     "status": "completed"
    },
    "tags": []
   },
   "outputs": [
    {
     "data": {
      "text/plain": [
       "RandomForestClassifier(min_samples_split=500, n_estimators=150, n_jobs=2)"
      ]
     },
     "execution_count": 56,
     "metadata": {},
     "output_type": "execute_result"
    }
   ],
   "source": [
    "rfc = RandomForestClassifier(criterion='gini',\n",
    "                             min_samples_split=500,\n",
    "                            n_estimators=150,\n",
    "                            n_jobs=2)\n",
    "rfc.fit(X_train, y_train)"
   ]
  },
  {
   "cell_type": "code",
   "execution_count": 57,
   "id": "24498ee7",
   "metadata": {
    "execution": {
     "iopub.execute_input": "2022-11-14T23:03:42.584701Z",
     "iopub.status.busy": "2022-11-14T23:03:42.583822Z",
     "iopub.status.idle": "2022-11-14T23:03:43.002483Z",
     "shell.execute_reply": "2022-11-14T23:03:43.001077Z"
    },
    "papermill": {
     "duration": 0.460378,
     "end_time": "2022-11-14T23:03:43.005604",
     "exception": false,
     "start_time": "2022-11-14T23:03:42.545226",
     "status": "completed"
    },
    "tags": []
   },
   "outputs": [
    {
     "data": {
      "text/plain": [
       "0.49461178914567644"
      ]
     },
     "execution_count": 57,
     "metadata": {},
     "output_type": "execute_result"
    }
   ],
   "source": [
    "rfc_pred = rfc.predict(X_test)\n",
    "accuracy_score(rfc_pred, y_test)"
   ]
  },
  {
   "cell_type": "code",
   "execution_count": 58,
   "id": "09b6c1b2",
   "metadata": {
    "execution": {
     "iopub.execute_input": "2022-11-14T23:03:43.083468Z",
     "iopub.status.busy": "2022-11-14T23:03:43.083056Z",
     "iopub.status.idle": "2022-11-14T23:03:43.164191Z",
     "shell.execute_reply": "2022-11-14T23:03:43.162699Z"
    },
    "papermill": {
     "duration": 0.122814,
     "end_time": "2022-11-14T23:03:43.166871",
     "exception": false,
     "start_time": "2022-11-14T23:03:43.044057",
     "status": "completed"
    },
    "tags": []
   },
   "outputs": [
    {
     "name": "stdout",
     "output_type": "stream",
     "text": [
      "Accuracy of Random Forest Ensemble Model :  0.3290703713321215\n",
      "[[2466 1200  772  736  887]\n",
      " [ 404 4459  339  659  471]\n",
      " [ 750  552 3102  549 1219]\n",
      " [ 882 1260  609 2502  966]\n",
      " [ 467 1114 1128  606 2709]]\n",
      "              precision    recall  f1-score   support\n",
      "\n",
      "           0       0.50      0.41      0.45      6061\n",
      "           1       0.52      0.70      0.60      6332\n",
      "           2       0.52      0.50      0.51      6172\n",
      "           3       0.50      0.40      0.44      6219\n",
      "           4       0.43      0.45      0.44      6024\n",
      "\n",
      "    accuracy                           0.49     30808\n",
      "   macro avg       0.49      0.49      0.49     30808\n",
      "weighted avg       0.49      0.49      0.49     30808\n",
      "\n"
     ]
    }
   ],
   "source": [
    "print(\"Accuracy of Random Forest Ensemble Model : \",accuracy_score(y_test, knn_pred))\n",
    "print(confusion_matrix(y_test, rfc_pred)) \n",
    "print(classification_report(y_test,rfc_pred))"
   ]
  },
  {
   "cell_type": "markdown",
   "id": "e9225cd1",
   "metadata": {
    "papermill": {
     "duration": 0.045126,
     "end_time": "2022-11-14T23:03:43.252559",
     "exception": false,
     "start_time": "2022-11-14T23:03:43.207433",
     "status": "completed"
    },
    "tags": []
   },
   "source": [
    "**Adaboost**\n",
    "\n",
    "*Adaboost or Adaptive Boosting is a boosting algorithm. Adaboost combines several weak learners to produce a stronger model. The final output is obtained from the weighted sum of the weak models.(Sequential)*"
   ]
  },
  {
   "cell_type": "code",
   "execution_count": 59,
   "id": "6cd0091a",
   "metadata": {
    "execution": {
     "iopub.execute_input": "2022-11-14T23:03:43.336433Z",
     "iopub.status.busy": "2022-11-14T23:03:43.335218Z",
     "iopub.status.idle": "2022-11-14T23:03:43.340277Z",
     "shell.execute_reply": "2022-11-14T23:03:43.339439Z"
    },
    "papermill": {
     "duration": 0.04524,
     "end_time": "2022-11-14T23:03:43.342381",
     "exception": false,
     "start_time": "2022-11-14T23:03:43.297141",
     "status": "completed"
    },
    "tags": []
   },
   "outputs": [],
   "source": [
    "from sklearn.ensemble import AdaBoostClassifier"
   ]
  },
  {
   "cell_type": "code",
   "execution_count": 60,
   "id": "2edbd219",
   "metadata": {
    "execution": {
     "iopub.execute_input": "2022-11-14T23:03:43.418246Z",
     "iopub.status.busy": "2022-11-14T23:03:43.417318Z",
     "iopub.status.idle": "2022-11-14T23:03:43.423512Z",
     "shell.execute_reply": "2022-11-14T23:03:43.422392Z"
    },
    "papermill": {
     "duration": 0.046458,
     "end_time": "2022-11-14T23:03:43.425761",
     "exception": false,
     "start_time": "2022-11-14T23:03:43.379303",
     "status": "completed"
    },
    "tags": []
   },
   "outputs": [],
   "source": [
    "tree = DecisionTreeClassifier(criterion='entropy', max_depth=1)\n",
    "ada = AdaBoostClassifier(base_estimator=tree, \n",
    "                         n_estimators=100, \n",
    "                         learning_rate=0.1, \n",
    "                         random_state=0)"
   ]
  },
  {
   "cell_type": "code",
   "execution_count": 61,
   "id": "be9cd799",
   "metadata": {
    "execution": {
     "iopub.execute_input": "2022-11-14T23:03:43.502375Z",
     "iopub.status.busy": "2022-11-14T23:03:43.501927Z",
     "iopub.status.idle": "2022-11-14T23:03:51.140262Z",
     "shell.execute_reply": "2022-11-14T23:03:51.138998Z"
    },
    "papermill": {
     "duration": 7.680143,
     "end_time": "2022-11-14T23:03:51.143021",
     "exception": false,
     "start_time": "2022-11-14T23:03:43.462878",
     "status": "completed"
    },
    "tags": []
   },
   "outputs": [],
   "source": [
    "ada = ada.fit(X_train, y_train)\n",
    "ada_pred = ada.predict(X_test)"
   ]
  },
  {
   "cell_type": "code",
   "execution_count": 62,
   "id": "84a850bf",
   "metadata": {
    "execution": {
     "iopub.execute_input": "2022-11-14T23:03:51.219452Z",
     "iopub.status.busy": "2022-11-14T23:03:51.219036Z",
     "iopub.status.idle": "2022-11-14T23:03:51.296898Z",
     "shell.execute_reply": "2022-11-14T23:03:51.295343Z"
    },
    "papermill": {
     "duration": 0.119657,
     "end_time": "2022-11-14T23:03:51.299823",
     "exception": false,
     "start_time": "2022-11-14T23:03:51.180166",
     "status": "completed"
    },
    "tags": []
   },
   "outputs": [
    {
     "name": "stdout",
     "output_type": "stream",
     "text": [
      "Accuracy of Adaboost :  0.40749156063360165\n",
      "[[1031 1450 2072  835  673]\n",
      " [ 179 4457  495  722  479]\n",
      " [ 173  621 4318  255  805]\n",
      " [ 304 2030 1743 1226  916]\n",
      " [ 103 1279 2607  513 1522]]\n",
      "              precision    recall  f1-score   support\n",
      "\n",
      "           0       0.58      0.17      0.26      6061\n",
      "           1       0.45      0.70      0.55      6332\n",
      "           2       0.38      0.70      0.50      6172\n",
      "           3       0.35      0.20      0.25      6219\n",
      "           4       0.35      0.25      0.29      6024\n",
      "\n",
      "    accuracy                           0.41     30808\n",
      "   macro avg       0.42      0.40      0.37     30808\n",
      "weighted avg       0.42      0.41      0.37     30808\n",
      "\n"
     ]
    }
   ],
   "source": [
    "print(\"Accuracy of Adaboost : \",accuracy_score(y_test, ada_pred))\n",
    "print(confusion_matrix(y_test, ada_pred)) \n",
    "print(classification_report(y_test,ada_pred))"
   ]
  },
  {
   "cell_type": "code",
   "execution_count": 63,
   "id": "baaead2b",
   "metadata": {
    "execution": {
     "iopub.execute_input": "2022-11-14T23:03:51.376022Z",
     "iopub.status.busy": "2022-11-14T23:03:51.375598Z",
     "iopub.status.idle": "2022-11-14T23:03:51.390727Z",
     "shell.execute_reply": "2022-11-14T23:03:51.389625Z"
    },
    "papermill": {
     "duration": 0.056182,
     "end_time": "2022-11-14T23:03:51.393392",
     "exception": false,
     "start_time": "2022-11-14T23:03:51.337210",
     "status": "completed"
    },
    "tags": []
   },
   "outputs": [],
   "source": [
    "def dtree(premises_type,occurrenceyear,month_id,day_id,occurrencedayofyear,occurrencehour,Neighbourhood,Latitude,Longitude):\n",
    "#turning the arguments into a numpy array  \n",
    "\n",
    "    x = np.array([premises_type,occurrenceyear,month_id,day_id,occurrencedayofyear,occurrencehour,Neighbourhood,Latitude,Longitude])\n",
    "    #x = MultiColumnLabelEncoder(columns = ['premises_type','offence', 'Neighbourhood', \"occurrencemonth\"]).fit_transform(x)\n",
    "    prediction = treeclf.predict(x.reshape(1, -1))\n",
    "\n",
    "    return prediction\n",
    "\n",
    "def bayes(premises_type,occurrenceyear,month_id,day_id,occurrencedayofyear,occurrencehour,Neighbourhood,Latitude,Longitude):\n",
    "        x = np.array([premises_type,occurrenceyear,month_id,day_id,occurrencedayofyear,occurrencehour,Neighbourhood,Latitude,Longitude])\n",
    "        prediction = std_clf.predict(x.reshape(1, -1))\n",
    "\n",
    "        return prediction\n",
    "    \n",
    "def reg(premises_type,occurrenceyear,month_id,day_id,occurrencedayofyear,occurrencehour,Neighbourhood,Latitude,Longitude):\n",
    "    x = np.array([premises_type,occurrenceyear,month_id,day_id,occurrencedayofyear,occurrencehour,Neighbourhood,Latitude,Longitude])\n",
    "    prediction = logreg.predict(x.reshape(1, -1))\n",
    "\n",
    "    return prediction\n",
    "\n",
    "def knn_fn(premises_type,occurrenceyear,month_id,day_id,occurrencedayofyear,occurrencehour,Neighbourhood,Latitude,Longitude):\n",
    "    x = np.array([premises_type,occurrenceyear,month_id,day_id,occurrencedayofyear,occurrencehour,Neighbourhood,Latitude,Longitude])\n",
    "    prediction = knn.predict(x.reshape(1, -1))\n",
    "\n",
    "    return prediction\n",
    "\n",
    "def ensemble_fn(premises_type,occurrenceyear,month_id,day_id,occurrencedayofyear,occurrencehour,Neighbourhood,Latitude,Longitude):\n",
    "    x = np.array([premises_type,occurrenceyear,month_id,day_id,occurrencedayofyear,occurrencehour,Neighbourhood,Latitude,Longitude])\n",
    "    prediction = rfc.predict(x.reshape(1, -1))\n",
    "\n",
    "    return prediction\n",
    "\n",
    "def adaboost_fn(premises_type,occurrenceyear,month_id,day_id,occurrencedayofyear,occurrencehour,Neighbourhood,Latitude,Longitude):\n",
    "    x = np.array([premises_type,occurrenceyear,month_id,day_id,occurrencedayofyear,occurrencehour,Neighbourhood,Latitude,Longitude])\n",
    "    prediction = ada.predict(x.reshape(1, -1))\n",
    "\n",
    "    return prediction\n"
   ]
  },
  {
   "cell_type": "code",
   "execution_count": 64,
   "id": "ec1ee009",
   "metadata": {
    "execution": {
     "iopub.execute_input": "2022-11-14T23:03:51.469413Z",
     "iopub.status.busy": "2022-11-14T23:03:51.469024Z",
     "iopub.status.idle": "2022-11-14T23:03:56.718459Z",
     "shell.execute_reply": "2022-11-14T23:03:56.717290Z"
    },
    "papermill": {
     "duration": 5.290559,
     "end_time": "2022-11-14T23:03:56.721468",
     "exception": false,
     "start_time": "2022-11-14T23:03:51.430909",
     "status": "completed"
    },
    "tags": []
   },
   "outputs": [
    {
     "name": "stderr",
     "output_type": "stream",
     "text": [
      "/opt/conda/lib/python3.7/site-packages/gradio/outputs.py:22: UserWarning: Usage of gradio.outputs is deprecated, and will not be supported in the future, please import your components from gradio.components\n",
      "  \"Usage of gradio.outputs is deprecated, and will not be supported in the future, please import your components from gradio.components\",\n",
      "/opt/conda/lib/python3.7/site-packages/gradio/deprecation.py:40: UserWarning: The 'type' parameter has been deprecated. Use the Number component instead.\n",
      "  warnings.warn(value)\n",
      "/opt/conda/lib/python3.7/site-packages/gradio/utils.py:764: UserWarning: Expected 9 arguments for function <function ensemble_fn at 0x7feb0b72b440>, received 8.\n",
      "  f\"Expected {max_args} arguments for function {fn}, received {arg_count}.\"\n",
      "/opt/conda/lib/python3.7/site-packages/gradio/utils.py:768: UserWarning: Expected at least 9 arguments for function <function ensemble_fn at 0x7feb0b72b440>, received 8.\n",
      "  f\"Expected at least {min_args} arguments for function {fn}, received {arg_count}.\"\n"
     ]
    },
    {
     "name": "stdout",
     "output_type": "stream",
     "text": [
      "Running on local URL:  http://127.0.0.1:7860\n",
      "Running on public URL: https://8e30c26544dff6d4.gradio.app\n",
      "\n",
      "This share link expires in 72 hours. For free permanent hosting and GPU upgrades (NEW!), check out Spaces: https://huggingface.co/spaces\n"
     ]
    },
    {
     "data": {
      "text/html": [
       "<div><iframe src=\"https://8e30c26544dff6d4.gradio.app\" width=\"100%\" height=\"500\" allow=\"autoplay; camera; microphone; clipboard-read; clipboard-write;\" frameborder=\"0\" allowfullscreen></iframe></div>"
      ],
      "text/plain": [
       "<IPython.core.display.HTML object>"
      ]
     },
     "metadata": {},
     "output_type": "display_data"
    },
    {
     "data": {
      "text/plain": [
       "(<gradio.routes.App at 0x7feac5c1ea10>,\n",
       " 'http://127.0.0.1:7860/',\n",
       " 'https://8e30c26544dff6d4.gradio.app')"
      ]
     },
     "execution_count": 64,
     "metadata": {},
     "output_type": "execute_result"
    }
   ],
   "source": [
    "import gradio as gr\n",
    "outputs = gr.outputs.Textbox()\n",
    "#labels\n",
    "\n",
    "app = gr.Interface(fn=ensemble_fn, inputs=['text','text','text','text','text','text','text','text'], outputs=outputs,description=\"CRIME ANALYSIS\")\n",
    "app.launch(share=True)"
   ]
  },
  {
   "cell_type": "code",
   "execution_count": 65,
   "id": "8bc95cbe",
   "metadata": {
    "execution": {
     "iopub.execute_input": "2022-11-14T23:03:56.804208Z",
     "iopub.status.busy": "2022-11-14T23:03:56.803536Z",
     "iopub.status.idle": "2022-11-14T23:03:56.822420Z",
     "shell.execute_reply": "2022-11-14T23:03:56.820998Z"
    },
    "papermill": {
     "duration": 0.064195,
     "end_time": "2022-11-14T23:03:56.825296",
     "exception": false,
     "start_time": "2022-11-14T23:03:56.761101",
     "status": "completed"
    },
    "tags": []
   },
   "outputs": [
    {
     "data": {
      "text/html": [
       "<div>\n",
       "<style scoped>\n",
       "    .dataframe tbody tr th:only-of-type {\n",
       "        vertical-align: middle;\n",
       "    }\n",
       "\n",
       "    .dataframe tbody tr th {\n",
       "        vertical-align: top;\n",
       "    }\n",
       "\n",
       "    .dataframe thead th {\n",
       "        text-align: right;\n",
       "    }\n",
       "</style>\n",
       "<table border=\"1\" class=\"dataframe\">\n",
       "  <thead>\n",
       "    <tr style=\"text-align: right;\">\n",
       "      <th></th>\n",
       "      <th>premises_type</th>\n",
       "      <th>occurrenceyear</th>\n",
       "      <th>month_id</th>\n",
       "      <th>day_id</th>\n",
       "      <th>occurrencedayofyear</th>\n",
       "      <th>occurrencehour</th>\n",
       "      <th>Neighbourhood</th>\n",
       "      <th>Latitude</th>\n",
       "      <th>Longitude</th>\n",
       "    </tr>\n",
       "  </thead>\n",
       "  <tbody>\n",
       "    <tr>\n",
       "      <th>53043</th>\n",
       "      <td>0</td>\n",
       "      <td>2021</td>\n",
       "      <td>10</td>\n",
       "      <td>4</td>\n",
       "      <td>294</td>\n",
       "      <td>2</td>\n",
       "      <td>123</td>\n",
       "      <td>43.641656</td>\n",
       "      <td>-79.381176</td>\n",
       "    </tr>\n",
       "    <tr>\n",
       "      <th>49042</th>\n",
       "      <td>1</td>\n",
       "      <td>2021</td>\n",
       "      <td>12</td>\n",
       "      <td>6</td>\n",
       "      <td>359</td>\n",
       "      <td>21</td>\n",
       "      <td>45</td>\n",
       "      <td>43.676703</td>\n",
       "      <td>-79.321490</td>\n",
       "    </tr>\n",
       "    <tr>\n",
       "      <th>46036</th>\n",
       "      <td>3</td>\n",
       "      <td>2021</td>\n",
       "      <td>7</td>\n",
       "      <td>7</td>\n",
       "      <td>192</td>\n",
       "      <td>20</td>\n",
       "      <td>130</td>\n",
       "      <td>43.712973</td>\n",
       "      <td>-79.455704</td>\n",
       "    </tr>\n",
       "    <tr>\n",
       "      <th>3030</th>\n",
       "      <td>3</td>\n",
       "      <td>2021</td>\n",
       "      <td>2</td>\n",
       "      <td>6</td>\n",
       "      <td>37</td>\n",
       "      <td>18</td>\n",
       "      <td>37</td>\n",
       "      <td>43.741566</td>\n",
       "      <td>-79.261023</td>\n",
       "    </tr>\n",
       "    <tr>\n",
       "      <th>90157</th>\n",
       "      <td>1</td>\n",
       "      <td>2021</td>\n",
       "      <td>11</td>\n",
       "      <td>5</td>\n",
       "      <td>332</td>\n",
       "      <td>7</td>\n",
       "      <td>55</td>\n",
       "      <td>43.714838</td>\n",
       "      <td>-79.559428</td>\n",
       "    </tr>\n",
       "    <tr>\n",
       "      <th>...</th>\n",
       "      <td>...</td>\n",
       "      <td>...</td>\n",
       "      <td>...</td>\n",
       "      <td>...</td>\n",
       "      <td>...</td>\n",
       "      <td>...</td>\n",
       "      <td>...</td>\n",
       "      <td>...</td>\n",
       "      <td>...</td>\n",
       "    </tr>\n",
       "    <tr>\n",
       "      <th>37882</th>\n",
       "      <td>2</td>\n",
       "      <td>2021</td>\n",
       "      <td>3</td>\n",
       "      <td>3</td>\n",
       "      <td>71</td>\n",
       "      <td>0</td>\n",
       "      <td>125</td>\n",
       "      <td>43.724680</td>\n",
       "      <td>-79.612635</td>\n",
       "    </tr>\n",
       "    <tr>\n",
       "      <th>55930</th>\n",
       "      <td>1</td>\n",
       "      <td>2021</td>\n",
       "      <td>7</td>\n",
       "      <td>3</td>\n",
       "      <td>188</td>\n",
       "      <td>0</td>\n",
       "      <td>79</td>\n",
       "      <td>43.650464</td>\n",
       "      <td>-79.371874</td>\n",
       "    </tr>\n",
       "    <tr>\n",
       "      <th>25329</th>\n",
       "      <td>0</td>\n",
       "      <td>2021</td>\n",
       "      <td>10</td>\n",
       "      <td>7</td>\n",
       "      <td>276</td>\n",
       "      <td>2</td>\n",
       "      <td>39</td>\n",
       "      <td>43.715951</td>\n",
       "      <td>-79.428965</td>\n",
       "    </tr>\n",
       "    <tr>\n",
       "      <th>11505</th>\n",
       "      <td>0</td>\n",
       "      <td>2021</td>\n",
       "      <td>5</td>\n",
       "      <td>4</td>\n",
       "      <td>140</td>\n",
       "      <td>0</td>\n",
       "      <td>18</td>\n",
       "      <td>43.699555</td>\n",
       "      <td>-79.502855</td>\n",
       "    </tr>\n",
       "    <tr>\n",
       "      <th>31490</th>\n",
       "      <td>2</td>\n",
       "      <td>2021</td>\n",
       "      <td>12</td>\n",
       "      <td>4</td>\n",
       "      <td>336</td>\n",
       "      <td>12</td>\n",
       "      <td>45</td>\n",
       "      <td>43.746667</td>\n",
       "      <td>-79.510796</td>\n",
       "    </tr>\n",
       "  </tbody>\n",
       "</table>\n",
       "<p>30808 rows × 9 columns</p>\n",
       "</div>"
      ],
      "text/plain": [
       "       premises_type  occurrenceyear  month_id  day_id  occurrencedayofyear  \\\n",
       "53043              0            2021        10       4                  294   \n",
       "49042              1            2021        12       6                  359   \n",
       "46036              3            2021         7       7                  192   \n",
       "3030               3            2021         2       6                   37   \n",
       "90157              1            2021        11       5                  332   \n",
       "...              ...             ...       ...     ...                  ...   \n",
       "37882              2            2021         3       3                   71   \n",
       "55930              1            2021         7       3                  188   \n",
       "25329              0            2021        10       7                  276   \n",
       "11505              0            2021         5       4                  140   \n",
       "31490              2            2021        12       4                  336   \n",
       "\n",
       "       occurrencehour  Neighbourhood   Latitude  Longitude  \n",
       "53043               2            123  43.641656 -79.381176  \n",
       "49042              21             45  43.676703 -79.321490  \n",
       "46036              20            130  43.712973 -79.455704  \n",
       "3030               18             37  43.741566 -79.261023  \n",
       "90157               7             55  43.714838 -79.559428  \n",
       "...               ...            ...        ...        ...  \n",
       "37882               0            125  43.724680 -79.612635  \n",
       "55930               0             79  43.650464 -79.371874  \n",
       "25329               2             39  43.715951 -79.428965  \n",
       "11505               0             18  43.699555 -79.502855  \n",
       "31490              12             45  43.746667 -79.510796  \n",
       "\n",
       "[30808 rows x 9 columns]"
      ]
     },
     "execution_count": 65,
     "metadata": {},
     "output_type": "execute_result"
    }
   ],
   "source": [
    "X_test"
   ]
  },
  {
   "cell_type": "code",
   "execution_count": 66,
   "id": "12434ff4",
   "metadata": {
    "execution": {
     "iopub.execute_input": "2022-11-14T23:03:56.905437Z",
     "iopub.status.busy": "2022-11-14T23:03:56.904979Z",
     "iopub.status.idle": "2022-11-14T23:03:56.915596Z",
     "shell.execute_reply": "2022-11-14T23:03:56.914350Z"
    },
    "papermill": {
     "duration": 0.053262,
     "end_time": "2022-11-14T23:03:56.918165",
     "exception": false,
     "start_time": "2022-11-14T23:03:56.864903",
     "status": "completed"
    },
    "tags": []
   },
   "outputs": [
    {
     "data": {
      "text/plain": [
       "53043    2\n",
       "49042    2\n",
       "46036    1\n",
       "3030     0\n",
       "90157    4\n",
       "        ..\n",
       "37882    1\n",
       "55930    2\n",
       "25329    2\n",
       "11505    0\n",
       "31490    0\n",
       "Name: mci_category, Length: 30808, dtype: int64"
      ]
     },
     "execution_count": 66,
     "metadata": {},
     "output_type": "execute_result"
    }
   ],
   "source": [
    "y_test"
   ]
  },
  {
   "cell_type": "code",
   "execution_count": 67,
   "id": "fada9c4d",
   "metadata": {
    "execution": {
     "iopub.execute_input": "2022-11-14T23:03:56.998560Z",
     "iopub.status.busy": "2022-11-14T23:03:56.998089Z",
     "iopub.status.idle": "2022-11-14T23:04:00.621369Z",
     "shell.execute_reply": "2022-11-14T23:04:00.620093Z"
    },
    "papermill": {
     "duration": 3.666549,
     "end_time": "2022-11-14T23:04:00.624027",
     "exception": false,
     "start_time": "2022-11-14T23:03:56.957478",
     "status": "completed"
    },
    "tags": []
   },
   "outputs": [
    {
     "name": "stderr",
     "output_type": "stream",
     "text": [
      "/opt/conda/lib/python3.7/site-packages/gradio/inputs.py:183: UserWarning: Usage of gradio.inputs is deprecated, and will not be supported in the future, please import your component from gradio.components\n",
      "  \"Usage of gradio.inputs is deprecated, and will not be supported in the future, please import your component from gradio.components\",\n",
      "/opt/conda/lib/python3.7/site-packages/gradio/deprecation.py:40: UserWarning: `optional` parameter is deprecated, and it has no effect\n",
      "  warnings.warn(value)\n",
      "/opt/conda/lib/python3.7/site-packages/gradio/inputs.py:217: UserWarning: Usage of gradio.inputs is deprecated, and will not be supported in the future, please import your component from gradio.components\n",
      "  \"Usage of gradio.inputs is deprecated, and will not be supported in the future, please import your component from gradio.components\",\n",
      "/opt/conda/lib/python3.7/site-packages/gradio/inputs.py:27: UserWarning: Usage of gradio.inputs is deprecated, and will not be supported in the future, please import your component from gradio.components\n",
      "  \"Usage of gradio.inputs is deprecated, and will not be supported in the future, please import your component from gradio.components\",\n",
      "/opt/conda/lib/python3.7/site-packages/gradio/deprecation.py:40: UserWarning: `numeric` parameter is deprecated, and it has no effect\n",
      "  warnings.warn(value)\n",
      "/opt/conda/lib/python3.7/site-packages/gradio/deprecation.py:40: UserWarning: The 'type' parameter has been deprecated. Use the Number component instead.\n",
      "  warnings.warn(value)\n",
      "/opt/conda/lib/python3.7/site-packages/gradio/outputs.py:22: UserWarning: Usage of gradio.outputs is deprecated, and will not be supported in the future, please import your components from gradio.components\n",
      "  \"Usage of gradio.outputs is deprecated, and will not be supported in the future, please import your components from gradio.components\",\n",
      "/opt/conda/lib/python3.7/site-packages/gradio/blocks.py:220: UserWarning: api_name predict already exists, using predict_1\n",
      "  \"api_name {} already exists, using {}\".format(api_name, api_name_)\n",
      "/opt/conda/lib/python3.7/site-packages/gradio/blocks.py:220: UserWarning: api_name predict already exists, using predict_2\n",
      "  \"api_name {} already exists, using {}\".format(api_name, api_name_)\n",
      "/opt/conda/lib/python3.7/site-packages/gradio/blocks.py:220: UserWarning: api_name predict already exists, using predict_3\n",
      "  \"api_name {} already exists, using {}\".format(api_name, api_name_)\n",
      "/opt/conda/lib/python3.7/site-packages/gradio/blocks.py:220: UserWarning: api_name predict already exists, using predict_4\n",
      "  \"api_name {} already exists, using {}\".format(api_name, api_name_)\n",
      "/opt/conda/lib/python3.7/site-packages/gradio/blocks.py:220: UserWarning: api_name predict already exists, using predict_5\n",
      "  \"api_name {} already exists, using {}\".format(api_name, api_name_)\n",
      "/opt/conda/lib/python3.7/site-packages/gradio/blocks.py:220: UserWarning: api_name predict already exists, using predict_6\n",
      "  \"api_name {} already exists, using {}\".format(api_name, api_name_)\n",
      "/opt/conda/lib/python3.7/site-packages/gradio/blocks.py:220: UserWarning: api_name predict already exists, using predict_7\n",
      "  \"api_name {} already exists, using {}\".format(api_name, api_name_)\n",
      "/opt/conda/lib/python3.7/site-packages/gradio/blocks.py:220: UserWarning: api_name predict already exists, using predict_8\n",
      "  \"api_name {} already exists, using {}\".format(api_name, api_name_)\n"
     ]
    },
    {
     "name": "stdout",
     "output_type": "stream",
     "text": [
      "Running on local URL:  http://127.0.0.1:7861\n",
      "Running on public URL: https://78318bc50822ebef.gradio.app\n",
      "\n",
      "This share link expires in 72 hours. For free permanent hosting and GPU upgrades (NEW!), check out Spaces: https://huggingface.co/spaces\n"
     ]
    },
    {
     "data": {
      "text/html": [
       "<div><iframe src=\"https://78318bc50822ebef.gradio.app\" width=\"100%\" height=\"500\" allow=\"autoplay; camera; microphone; clipboard-read; clipboard-write;\" frameborder=\"0\" allowfullscreen></iframe></div>"
      ],
      "text/plain": [
       "<IPython.core.display.HTML object>"
      ]
     },
     "metadata": {},
     "output_type": "display_data"
    },
    {
     "data": {
      "text/plain": [
       "(<gradio.routes.App at 0x7feac30560d0>,\n",
       " 'http://127.0.0.1:7861/',\n",
       " 'https://78318bc50822ebef.gradio.app')"
      ]
     },
     "execution_count": 67,
     "metadata": {},
     "output_type": "execute_result"
    }
   ],
   "source": [
    "def inference(premises_type,occurrenceyear,occurrencemonth,day_id,occurrencedayofyear,occurrencehour,Neighbourhood,Latitude,Longitude):\n",
    "    s = 0 if sex=='female' else 1\n",
    "    df = pd.DataFrame([[premises_type,occurrenceyear,occurrencemonth,day_id,occurrencedayofyear,occurrencehour,Hood_ID,Neighbourhood,Latitude,Longitude]], \n",
    "                      columns=['premises_type','occurrenceyear','occurrencemonth','day_id','occurrencedayofyear','occurrencehour','Hood_ID','Neighbourhood','Latitude','Longitude'])\n",
    "    #df = st.transform(df)\n",
    "    pred = ensemble_fnl.predict_proba(df)[0]\n",
    "    #res = {'No Heart Desease': pred[0], 'Has Heart Desease': pred[1]}\n",
    "    return res\n",
    "\n",
    "premises_type=gr.inputs.Radio(['0', '1','2','3','4','5'], label=\"premises_type\")\n",
    "occurrenceyear=gr.inputs.Dropdown(['2021'], label=\"occurrenceyear\")\n",
    "occurrencemonth=gr.inputs.Textbox()\n",
    "day_id=gr.inputs.Textbox()\n",
    "occurrencedayofyear=gr.inputs.Textbox()\n",
    "occurrencehour=gr.inputs.Textbox()\n",
    "Neighbourhood=gr.inputs.Textbox()\n",
    "Latitude=gr.inputs.Textbox()\n",
    "Longitude=gr.inputs.Textbox()\n",
    "\n",
    "outputs = gr.outputs.Textbox()\n",
    "\n",
    "gr.Interface(inference, [premises_type,occurrenceyear,occurrencemonth,day_id,occurrencedayofyear,occurrencehour,Neighbourhood,Latitude,Longitude], outputs=outputs, live=True).launch(share=True)"
   ]
  }
 ],
 "metadata": {
  "kernelspec": {
   "display_name": "Python 3",
   "language": "python",
   "name": "python3"
  },
  "language_info": {
   "codemirror_mode": {
    "name": "ipython",
    "version": 3
   },
   "file_extension": ".py",
   "mimetype": "text/x-python",
   "name": "python",
   "nbconvert_exporter": "python",
   "pygments_lexer": "ipython3",
   "version": "3.7.12"
  },
  "papermill": {
   "default_parameters": {},
   "duration": 95.503762,
   "end_time": "2022-11-14T23:04:01.789933",
   "environment_variables": {},
   "exception": null,
   "input_path": "__notebook__.ipynb",
   "output_path": "__notebook__.ipynb",
   "parameters": {},
   "start_time": "2022-11-14T23:02:26.286171",
   "version": "2.3.4"
  }
 },
 "nbformat": 4,
 "nbformat_minor": 5
}
